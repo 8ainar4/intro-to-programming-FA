{
 "cells": [
  {
   "cell_type": "markdown",
   "id": "57ebabde-5b49-444f-8a82-32fbc5ed05c0",
   "metadata": {},
   "source": [
    "<div style=\"font-family: 'B Nazanin', Tahoma, sans-serif; direction: rtl; text-align: right; line-height: 2; padding: 20px; background-color: #f8f9fa; border-radius: 10px; box-shadow: 0 2px 5px rgba(0,0,0,0.1);\">\n",
    "    <h2 style=\"color: #2c3e50; border-bottom: 2px solid #3498db; padding-bottom: 10px; font-size: 24px;\">حلقه‌ها در پایتون</h2>\n",
    "    \n",
    "<p style=\"font-size: 18px; margin-bottom: 20px; direction: rtl; text-align: right;\">در پایتون، برای اجرای یک بلوک کد به‌صورت تکراری، از ساختارهای <code style=\"background-color: #ebedef; padding: 2px 5px; border-radius: 3px;\">for</code> و <code style=\"background-color: #ebedef; padding: 2px 5px; border-radius: 3px;\">while</code> استفاده می‌کنیم. حلقه‌ها زمانی استفاده می‌شوند که بخواهیم یک کار مشخص را چند بار تکرار کنیم، یا روی آیتم‌های موجود در یک لیست یا رشته پیمایش داشته باشیم.</p>\n",
    "    \n",
    "<div style=\"background-color: #eaf2f8; padding: 15px; border-radius: 8px; margin-bottom: 20px; border-right: 4px solid #3498db;\">\n",
    "        <h3 style=\"color: #2980b9; font-size: 20px; margin-top: 0;\">انواع حلقه‌ها:</h3>\n",
    "        <ul style=\"font-size: 18px; list-style-type: persian; padding-right: 20px;\">\n",
    "            <li style=\"margin-bottom: 8px;\">\n",
    "                <strong>حلقه for:</strong> برای پیمایش در مجموعه‌ها (مانند لیست، رشته، تاپل، رنج)\n",
    "                <pre style=\"background-color: #ffffff; padding: 12px; border-radius: 6px; font-family: 'Courier New', monospace; font-size: 16px; direction: ltr; text-align: left; margin-top: 10px;\">\n",
    "for item in [1, 2, 3, 4]:\n",
    "    print(item)</pre>\n",
    "            </li>\n",
    "            <li style=\"margin-bottom: 8px;\">\n",
    "                <strong>حلقه while:</strong> تا زمانی که یک شرط برقرار باشد اجرا می‌شود\n",
    "                <pre style=\"background-color: #ffffff; padding: 12px; border-radius: 6px; font-family: 'Courier New', monospace; font-size: 16px; direction: ltr; text-align: left; margin-top: 10px;\">\n",
    "count = 0\n",
    "while count < 5:\n",
    "    print(count)\n",
    "    count += 1</pre>\n",
    "            </li>\n",
    "        </ul>\n",
    "    </div>"
   ]
  },
  {
   "cell_type": "code",
   "execution_count": 11,
   "id": "ee21b9a5-94d9-402f-bb5b-a5d348677720",
   "metadata": {},
   "outputs": [
    {
     "name": "stdout",
     "output_type": "stream",
     "text": [
      "i is: 0\n",
      "i is: 1\n",
      "i is: 2\n",
      "i is: 3\n",
      "i is: 4\n",
      "-------------------\n",
      "Even number: 2\n",
      "Even number: 4\n",
      "Even number: 6\n",
      "Even number: 8\n",
      "Even number: 10\n"
     ]
    }
   ],
   "source": [
    "# A simple loop using range()\n",
    "for i in range(5): #range is from index 0 to 4\n",
    "    print(\"i is:\", i)\n",
    "\n",
    "print(\"-------------------\")\n",
    "\n",
    "# Loop with custom start, stop, step\n",
    "for i in range(2, 11, 2): #starts from 2, stops before 11 (means at 10) and with 2 steps\n",
    "    print(\"Even number:\", i)"
   ]
  },
  {
   "cell_type": "markdown",
   "id": "73a72fc2-4665-4d1a-a54e-e7cbde203bef",
   "metadata": {},
   "source": [
    "<div style=\"font-family: 'B Nazanin', Tahoma, sans-serif; direction: rtl; text-align: right; line-height: 1.8; padding: 15px; background-color: #f8f9fa; border-radius: 8px; border: 1px solid #ddd;\">\n",
    "    <p style=\"font-size: 18px; margin-bottom: 15px;direction: rtl; text-align: right;\">\n",
    "        در پایتون برای پیمایش لیست‌ها و رشته‌ها می‌توان از روش‌های مختلفی استفاده کرد:\n",
    "    </p>\n",
    "    \n",
    "<ul style=\"font-size: 16px; list-style-type: persian; padding-right: 20px;\">\n",
    "        <li style=\"margin-bottom: 10px;\">\n",
    "            <strong>range(len())</strong>: ایجاد دنباله‌ای از اندیس‌ها (از 0 تا طول لیست)\n",
    "            <div style=\"background-color: #ebedef; padding: 5px; border-radius: 4px; direction: ltr; text-align: left; font-family: monospace; margin-top: 5px;\">\n",
    "                # مثال: for i in range(len(my_list))\n",
    "            </div>\n",
    "        </li>\n",
    "        \n",
    "<li style=\"margin-bottom: 10px;\">\n",
    "            <strong>پیمایش مستقیم</strong>: دسترسی مستقیم به عناصر بدون نیاز به اندیس\n",
    "            <div style=\"background-color: #ebedef; padding: 5px; border-radius: 4px; direction: ltr; text-align: left; font-family: monospace; margin-top: 5px;\">\n",
    "                # مثال: for item in my_list\n",
    "            </div>\n",
    "        </li>\n",
    "        \n",
    "<li style=\"margin-bottom: 10px;\">\n",
    "            <strong>reversed</strong>: پیمایش معکوس از آخر به اول\n",
    "            <div style=\"background-color: #ebedef; padding: 5px; border-radius: 4px; direction: ltr; text-align: left; font-family: monospace; margin-top: 5px;\">\n",
    "                # مثال: for item in reversed(my_list))\n",
    "            </div>\n",
    "        </li>\n",
    "        \n",
    "<li style=\"margin-bottom: 10px;\">\n",
    "            <strong>enumerate</strong>: دریافت همزمان اندیس و مقدار\n",
    "            <div style=\"background-color: #ebedef; padding: 5px; border-radius: 4px; direction: ltr; text-align: left; font-family: monospace; margin-top: 5px;\">\n",
    "                # مثال: for index, item in enumerate(my_list))\n",
    "            </div>\n",
    "        </li>\n",
    "    </ul>\n",
    "</div>"
   ]
  },
  {
   "cell_type": "markdown",
   "id": "79e6751f-27aa-4198-a642-5704064c06fd",
   "metadata": {},
   "source": [
    "<div style=\"font-family: 'B Nazanin', Tahoma, sans-serif; direction: rtl; text-align: right; line-height: 2; padding: 20px; background-color: #f8f9fa; border-radius: 10px; box-shadow: 0 2px 5px rgba(0,0,0,0.1);\">\n",
    "    <h2 style=\"color: #2c3e50; border-bottom: 2px solid #3498db; padding-bottom: 10px; font-size: 24px;\">پیمایش در رشته‌ها</h2>\n",
    "    \n",
    "<p style=\"font-size: 18px; margin-bottom: 20px; direction: rtl; text-align: right;\">پیمایش در یک رشته به ترتیب هر index است. از index[0] آغاز می‌شود و تا انتهای رشته می‌رود.</p>\n",
    "    \n",
    "<div style=\"background-color: #eaf2f8; padding: 15px; border-radius: 8px; margin-bottom: 20px; border-right: 4px solid #3498db;\">\n",
    "        <h3 style=\"color: #2980b9; font-size: 20px; margin-top: 0;\">مثال‌های پیمایش رشته:</h3>\n",
    "        <pre style=\"background-color: #ffffff; padding: 12px; border-radius: 6px; font-family: 'Courier New', monospace; font-size: 16px; direction: ltr; text-align: left; margin-top: 10px;\">\n",
    "# String traversal example\n",
    "text = \"Python\"\n",
    "for i in range(len(text)):\n",
    "    print(f\"Character at index {i}: {text[i]}\")</pre>\n",
    "    </div>\n",
    "    \n",
    "<div style=\"background-color: #e8f8f5; padding: 15px; border-radius: 8px; margin-bottom: 20px; border-right: 4px solid #1abc9c;\">\n",
    "        <h3 style=\"color: #16a085; font-size: 20px; margin-top: 0;\">پیمایش مستقیم:</h3>\n",
    "        <pre style=\"background-color: #ffffff; padding: 12px; border-radius: 6px; font-family: 'Courier New', monospace; font-size: 16px; direction: ltr; text-align: left; margin-top: 10px;\">\n",
    "# Direct character iteration\n",
    "word = \"Programming\"\n",
    "for char in word:\n",
    "    print(char)</pre>\n",
    "    </div>\n",
    "    \n",
    "<div style=\"background-color: #fef9e7; padding: 15px; border-radius: 8px; border-right: 4px solid #f39c12;\">\n",
    "        <h3 style=\"color: #d35400; font-size: 20px; margin-top: 0;\">پیمایش معکوس:</h3>\n",
    "        <pre style=\"background-color: #ffffff; padding: 12px; border-radius: 6px; font-family: 'Courier New', monospace; font-size: 16px; direction: ltr; text-align: left;\">\n",
    "# Reverse traversal\n",
    "s = \"Hello\"\n",
    "for i in range(len(s)-1, -1, -1):\n",
    "    print(s[i])</pre>\n",
    "    </div>\n",
    "</div>"
   ]
  },
  {
   "cell_type": "code",
   "execution_count": 7,
   "id": "8cd6de35-fb4f-457e-af7e-d2be9b19ed5a",
   "metadata": {},
   "outputs": [
    {
     "name": "stdout",
     "output_type": "stream",
     "text": [
      "Letter: R\n",
      "Letter: a\n",
      "Letter: n\n",
      "Letter: i\n",
      "Letter: a\n"
     ]
    }
   ],
   "source": [
    "# Loop through a string\n",
    "name = \"Rania\" \n",
    "for letter in name: #starts from name[0] = R to name[-1] = a\n",
    "    print(\"Letter:\", letter)"
   ]
  },
  {
   "cell_type": "markdown",
   "id": "c31fd01e-6bee-450e-a1ef-a9dbb82a20d7",
   "metadata": {},
   "source": [
    "<div style=\"font-family: 'B Nazanin', Tahoma, sans-serif; direction: rtl; text-align: right; line-height: 2; padding: 20px; background-color: #f8f9fa; border-radius: 10px; box-shadow: 0 2px 5px rgba(0,0,0,0.1);\">\n",
    "    <h2 style=\"color: #2c3e50; border-bottom: 2px solid #3498db; padding-bottom: 10px; font-size: 24px;\">پیمایش در لیست‌ها</h2>\n",
    "    \n",
    "<p style=\"font-size: 18px; margin-bottom: 20px; direction: rtl; text-align: right;\">در لیست نیز مانند رشته از اولین index آغاز و تا آخرین عضو لیست ادامه دارد.</p>\n",
    "    \n",
    "<div style=\"background-color: #eaf2f8; padding: 15px; border-radius: 8px; margin-bottom: 20px; border-right: 4px solid #3498db;\">\n",
    "        <h3 style=\"color: #2980b9; font-size: 20px; margin-top: 0;\">پیمایش لیست با اندیس:</h3>\n",
    "        <pre style=\"background-color: #ffffff; padding: 12px; border-radius: 6px; font-family: 'Courier New', monospace; font-size: 16px; direction: ltr; text-align: left;\">\n",
    "# List traversal by index\n",
    "my_list = [10, 20, 30, 40, 50]\n",
    "for i in range(len(my_list)):\n",
    "    print(f\"Index {i}: {my_list[i]}\")</pre>\n",
    "    </div>\n",
    "    \n",
    "<div style=\"background-color: #e8f8f5; padding: 15px; border-radius: 8px; margin-bottom: 20px; border-right: 4px solid #1abc9c;\">\n",
    "        <h3 style=\"color: #16a085; font-size: 20px; margin-top: 0;\">پیمایش مستقیم عناصر لیست:</h3>\n",
    "        <pre style=\"background-color: #ffffff; padding: 12px; border-radius: 6px; font-family: 'Courier New', monospace; font-size: 16px; direction: ltr; text-align: left;\">\n",
    "# Direct element iteration\n",
    "fruits = ['apple', 'banana', 'cherry']\n",
    "for fruit in fruits:\n",
    "    print(fruit)</pre>\n",
    "    </div>\n",
    "    \n",
    "<div style=\"background-color: #fef9e7; padding: 15px; border-radius: 8px; border-right: 4px solid #f39c12;\">\n",
    "        <h3 style=\"color: #d35400; font-size: 20px; margin-top: 0;\">پیمایش معکوس لیست:</h3>\n",
    "        <pre style=\"background-color: #ffffff; padding: 12px; border-radius: 6px; font-family: 'Courier New', monospace; font-size: 16px; direction: ltr; text-align: left;\">\n",
    "# Reverse list traversal\n",
    "numbers = [1, 2, 3, 4, 5]\n",
    "for num in reversed(numbers):\n",
    "    print(num)</pre>\n",
    "    </div>\n",
    "    \n",
    "<div style=\"background-color: #fdedec; padding: 15px; border-radius: 8px; border-right: 4px solid #e74c3c;\">\n",
    "        <h3 style=\"color: #c0392b; font-size: 20px; margin-top: 0;\">پیمایش با enumerate:</h3>\n",
    "        <pre style=\"background-color: #ffffff; padding: 12px; border-radius: 6px; font-family: 'Courier New', monospace; font-size: 16px; direction: ltr; text-align: left;\">\n",
    "# Traversal with index and value\n",
    "colors = ['red', 'green', 'blue']\n",
    "for index, color in enumerate(colors):\n",
    "    print(f\"Index {index}: {color}\")</pre>\n",
    "    </div>\n",
    "</div>"
   ]
  },
  {
   "cell_type": "code",
   "execution_count": 17,
   "id": "83857dec-f6d3-404a-899a-cc37227cbe5e",
   "metadata": {},
   "outputs": [
    {
     "name": "stdout",
     "output_type": "stream",
     "text": [
      "Index 0: 10\n",
      "Index 1: 20\n",
      "Index 2: 30\n",
      "Index 3: 40\n",
      "Index 4: 50\n"
     ]
    }
   ],
   "source": [
    "# List traversal by index\n",
    "my_list = [10, 20, 30, 40, 50]\n",
    "for i in range(len(my_list)):\n",
    "    print(f\"Index {i}: {my_list[i]}\")"
   ]
  },
  {
   "cell_type": "code",
   "execution_count": 18,
   "id": "09950372-9871-454b-992a-e8192addd4b2",
   "metadata": {},
   "outputs": [
    {
     "name": "stdout",
     "output_type": "stream",
     "text": [
      "apple\n",
      "banana\n",
      "cherry\n"
     ]
    }
   ],
   "source": [
    "# Direct element iteration\n",
    "fruits = ['apple', 'banana', 'cherry']\n",
    "for fruit in fruits:\n",
    "    print(fruit)"
   ]
  },
  {
   "cell_type": "code",
   "execution_count": 19,
   "id": "abc74759-d1a1-4e59-ad0f-7564642e2f7e",
   "metadata": {},
   "outputs": [
    {
     "name": "stdout",
     "output_type": "stream",
     "text": [
      "5\n",
      "4\n",
      "3\n",
      "2\n",
      "1\n"
     ]
    }
   ],
   "source": [
    "# Reverse list traversal\n",
    "numbers = [1, 2, 3, 4, 5]\n",
    "for num in reversed(numbers):\n",
    "    print(num)"
   ]
  },
  {
   "cell_type": "code",
   "execution_count": 20,
   "id": "2a6d7d4d-add2-4128-b49f-0fc31da0ce9e",
   "metadata": {},
   "outputs": [
    {
     "name": "stdout",
     "output_type": "stream",
     "text": [
      "Index 0: red\n",
      "Index 1: green\n",
      "Index 2: blue\n"
     ]
    }
   ],
   "source": [
    "# Traversal with index and value\n",
    "colors = ['red', 'green', 'blue']\n",
    "for index, color in enumerate(colors):\n",
    "    print(f\"Index {index}: {color}\")"
   ]
  },
  {
   "cell_type": "markdown",
   "id": "0e67c4e2-b698-445e-ab0c-a87b35d336f1",
   "metadata": {},
   "source": [
    "<div style=\"font-family: 'B Nazanin', Tahoma, sans-serif; direction: rtl; text-align: right; line-height: 2; padding: 20px; background-color: #f8f9fa; border-radius: 10px; box-shadow: 0 2px 5px rgba(0,0,0,0.1);\">\n",
    "    <h2 style=\"color: #2c3e50; border-bottom: 2px solid #3498db; padding-bottom: 10px; font-size: 24px;\">برش (Slicing) در پایتون</h2>\n",
    "    \n",
    "<p style=\"font-size: 18px; margin-bottom: 20px;direction: rtl; text-align: right;\">برش یک تکنیک قدرتمند برای استخراج بخشی از دنباله‌ها مانند لیست‌ها، رشته‌ها و تاپل‌ها در پایتون است.</p>\n",
    "    \n",
    "<div style=\"background-color: #eaf2f8; padding: 15px; border-radius: 8px; margin-bottom: 20px; border-right: 4px solid #3498db;\">\n",
    "        <h3 style=\"color: #2980b9; font-size: 20px; margin-top: 0;\">سینتکس کلی:</h3>\n",
    "        <pre style=\"background-color: #ffffff; padding: 12px; border-radius: 6px; font-family: 'Courier New', monospace; font-size: 16px; direction: ltr; text-align: left; overflow-x: auto;\">\n",
    "sequence[start:stop:step]</pre>\n",
    "    </div>\n",
    "    \n",
    "<div style=\"background-color: #e8f8f5; padding: 15px; border-radius: 8px; margin-bottom: 20px; border-right: 4px solid #1abc9c;\">\n",
    "        <h3 style=\"color: #16a085; font-size: 20px; margin-top: 0;\">پارامترهای برش:</h3>\n",
    "        <ul style=\"font-size: 18px; list-style-type: persian; padding-right: 20px;\">\n",
    "            <li style=\"margin-bottom: 8px;\"><strong>شروع (start):</strong> اندیس شروع برش (شامل می‌شود)</li>\n",
    "            <li style=\"margin-bottom: 8px;\"><strong>پایان (stop):</strong> اندیس پایان برش (شامل نمی‌شود)</li>\n",
    "            <li style=\"margin-bottom: 8px;\"><strong>گام (step):</strong> مقدار افزایش بین عناصر (مثبت یا منفی)</li>\n",
    "        </ul>\n",
    "    </div>\n",
    "    \n",
    "<div style=\"background-color: #fef9e7; padding: 15px; border-radius: 8px; margin-bottom: 20px; border-right: 4px solid #f39c12;\">\n",
    "        <h3 style=\"color: #d35400; font-size: 20px; margin-top: 0;\">مثال‌های کاربردی:</h3>\n",
    "        <pre style=\"background-color: #ffffff; padding: 12px; border-radius: 6px; font-family: 'Courier New', monospace; font-size: 16px; direction: ltr; text-align: left; overflow-x: auto;\">\n",
    "nums = [0, 1, 2, 3, 4, 5, 6, 7, 8, 9]\n",
    "\n",
    "print(nums[2:7])     # [2, 3, 4, 5, 6]\n",
    "print(nums[:5])      # [0, 1, 2, 3, 4]\n",
    "print(nums[5:])      # [5, 6, 7, 8, 9]\n",
    "print(nums[::2])     # [0, 2, 4, 6, 8]\n",
    "print(nums[::-1])    # [9, 8, 7, 6, 5, 4, 3, 2, 1, 0]</pre>\n",
    "    </div>\n",
    "    \n",
    "<div style=\"background-color: #fdedec; padding: 15px; border-radius: 8px; border-right: 4px solid #e74c3c;\">\n",
    "        <h3 style=\"color: #c0392b; font-size: 20px; margin-top: 0;\">برش در رشته‌ها:</h3>\n",
    "        <p style=\"font-size: 18px;direction: rtl; text-align: right;\">برش در رشته‌های متنی نیز به همین شکل عمل می‌کند:</p>\n",
    "        <pre style=\"background-color: #ffffff; padding: 12px; border-radius: 6px; font-family: 'Courier New', monospace; font-size: 16px; direction: ltr; text-align: left; overflow-x: auto;\">\n",
    "text = \"Python Programming\"\n",
    "print(text[4:12]) # on Progr   \n",
    "print(text[::-1]) # gnimmargorP nohtyP \n",
    "        </pre>\n",
    "    </div>\n",
    "</div>\n"
   ]
  },
  {
   "cell_type": "code",
   "execution_count": 16,
   "id": "7ae23a9f-5366-4396-b34a-622b591478f2",
   "metadata": {},
   "outputs": [
    {
     "name": "stdout",
     "output_type": "stream",
     "text": [
      "on Progr\n",
      "gnimmargorP nohtyP\n"
     ]
    }
   ],
   "source": [
    "text = \"Python Programming\"\n",
    "print(text[4:12])    \n",
    "print(text[::-1])"
   ]
  },
  {
   "cell_type": "code",
   "execution_count": 10,
   "id": "588532ef-eff2-406b-996c-749a67b55845",
   "metadata": {},
   "outputs": [
    {
     "name": "stdout",
     "output_type": "stream",
     "text": [
      "Reversed: 5\n",
      "Reversed: 4\n",
      "Reversed: 3\n",
      "Reversed: 2\n",
      "Reversed: 1\n",
      "------------------\n",
      "Step 2: 1\n",
      "Step 2: 3\n",
      "Step 2: 5\n"
     ]
    }
   ],
   "source": [
    "# Loop through a reversed list using slicing\n",
    "numbers = [1, 2, 3, 4, 5]\n",
    "for num in numbers[::-1]: #[ : : -1] means start from the first index till the last index and one step back (reversed)\n",
    "    print(\"Reversed:\", num)\n",
    "\n",
    "print(\"------------------\")\n",
    "\n",
    "# Loop through every second element\n",
    "for num in numbers[::2]:\n",
    "    print(\"Step 2:\", num)"
   ]
  },
  {
   "cell_type": "markdown",
   "id": "8a8951a9-9c58-4912-8779-c0b10fc63618",
   "metadata": {},
   "source": [
    "<div style=\"font-family: 'B Nazanin', Tahoma, sans-serif; direction: rtl; text-align: right; line-height: 2; padding: 20px; background-color: #f8f9fa; border-radius: 10px; box-shadow: 0 2px 5px rgba(0,0,0,0.1);\">\n",
    "    <div style=\"background-color: #e8f8f5; padding: 15px; border-radius: 8px; margin-bottom: 20px; border-right: 4px solid #1abc9c;\">\n",
    "        <h3 style=\"color: #16a085; font-size: 20px; margin-top: 0;\">کنترل حلقه‌ها:</h3>\n",
    "        <ul style=\"font-size: 18px; list-style-type: persian; padding-right: 20px;\">\n",
    "            <li style=\"margin-bottom: 8px;\"><code style=\"background-color: #ebedef; padding: 2px 5px; border-radius: 3px;\">break</code>: خروج از حلقه</li>\n",
    "            <li style=\"margin-bottom: 8px;\"><code style=\"background-color: #ebedef; padding: 2px 5px; border-radius: 3px;\">continue</code>: پرش به تکرار بعدی حلقه</li>\n",
    "            <li style=\"margin-bottom: 8px;\"><code style=\"background-color: #ebedef; padding: 2px 5px; border-radius: 3px;\">else</code>: اجرای بلوک پس از اتمام طبیعی حلقه</li>\n",
    "        </ul>\n",
    "    </div>\n",
    "    \n",
    "<div style=\"background-color: #fef9e7; padding: 15px; border-radius: 8px; border-right: 4px solid #f39c12;\">\n",
    "        <h3 style=\"color: #d35400; font-size: 20px; margin-top: 0;\">مثال کاربردی:</h3>\n",
    "        <pre style=\"background-color: #ffffff; padding: 12px; border-radius: 6px; font-family: 'Courier New', monospace; font-size: 16px; direction: ltr; text-align: left;\">\n",
    "numbers = [1, 2, 3, 4, 5]\n",
    "sum = 0\n",
    "\n",
    "for num in numbers:\n",
    "    if num % 2 == 0:\n",
    "        continue\n",
    "    sum += num\n",
    "    if sum > 5:\n",
    "        break\n",
    "        \n",
    "print(f\"جمع اعداد فرد: {sum}\")</pre>\n",
    "    </div>\n",
    "</div>"
   ]
  },
  {
   "cell_type": "code",
   "execution_count": 22,
   "id": "a8e8a125-00c5-4da1-8806-ec67199a0253",
   "metadata": {},
   "outputs": [
    {
     "name": "stdout",
     "output_type": "stream",
     "text": [
      "i (break example): 0\n",
      "i (break example): 1\n",
      "i (break example): 2\n",
      "i (break example): 3\n",
      "i (break example): 4\n",
      "------------------\n",
      "i (continue example): 0\n",
      "i (continue example): 1\n",
      "i (continue example): 3\n",
      "i (continue example): 4\n"
     ]
    }
   ],
   "source": [
    "# break example\n",
    "for i in range(10):\n",
    "    if i == 5:\n",
    "        break\n",
    "    print(\"i (break example):\", i)\n",
    "\n",
    "print(\"------------------\")\n",
    "\n",
    "# continue example\n",
    "for i in range(5):\n",
    "    if i == 2:\n",
    "        continue\n",
    "    print(\"i (continue example):\", i)\n"
   ]
  },
  {
   "cell_type": "code",
   "execution_count": 23,
   "id": "aac3b0d9-aead-40f9-9df4-aa910f3c10e2",
   "metadata": {},
   "outputs": [
    {
     "name": "stdout",
     "output_type": "stream",
     "text": [
      "جمع اعداد فرد: 9\n"
     ]
    }
   ],
   "source": [
    "numbers = [1, 2, 3, 4, 5]\n",
    "sum = 0\n",
    "\n",
    "for num in numbers:\n",
    "    if num % 2 == 0:\n",
    "        continue\n",
    "    sum += num\n",
    "    if sum > 5:\n",
    "        break\n",
    "\n",
    "\n",
    "print(f\"جمع اعداد فرد: {sum}\")"
   ]
  },
  {
   "cell_type": "markdown",
   "id": "9c83c9f5-495e-41a1-a324-feff102e2610",
   "metadata": {},
   "source": [
    "<div style=\"font-family: 'B Nazanin', Tahoma, sans-serif; direction: rtl; text-align: right; line-height: 1.8; padding: 15px; background-color: #f8f9fa; border-radius: 8px; border: 1px solid #ddd; margin: 10px 0;\">\n",
    "    <h3 style=\"color: #2c3e50; font-size: 20px; border-bottom: 2px solid #3498db; padding-bottom: 8px;\">حلقه while در پایتون</h3>\n",
    "    \n",
    "<p style=\"font-size: 16px; margin-bottom: 15px;direction: rtl; text-align: right;\">\n",
    "        حلقه <code style=\"background: #e0e0e0; padding: 2px 5px; border-radius: 3px;\">while</code> برای تکرار یک بلوک کد تا زمانی که شرط آن True باشد استفاده می‌شود.\n",
    "    </p>\n",
    "    \n",
    "<div style=\"background-color: #eaf2f8; padding: 12px; border-radius: 6px; border-right: 4px solid #3498db; margin-bottom: 15px;\">\n",
    "        <h4 style=\"color: #2980b9; font-size: 17px; margin-top: 0;\">سینتکس پایه:</h4>\n",
    "        <pre style=\"background-color: #ffffff; padding: 10px; border-radius: 5px; font-family: 'Courier New', monospace; font-size: 14px; direction: ltr; text-align: left; margin: 0;\">\n",
    "while شرط:\n",
    "    # کدی که تکرار می‌شود</pre>\n",
    "    </div>\n",
    "    \n",
    "<div style=\"background-color: #e8f8f5; padding: 12px; border-radius: 6px; border-right: 4px solid #1abc9c; margin-bottom: 15px;\">\n",
    "        <h4 style=\"color: #16a085; font-size: 17px; margin-top: 0;\">مثال ساده:</h4>\n",
    "        <pre style=\"background-color: #ffffff; padding: 10px; border-radius: 5px; font-family: 'Courier New', monospace; font-size: 14px; direction: ltr; text-align: left; margin: 0;\">\n",
    "count = 0\n",
    "while count < 5:\n",
    "    print(count)\n",
    "    count += 1</pre>\n",
    "        <p style=\"font-size: 14px; margin-top: 8px; margin-bottom: 0;direction: rtl; text-align: right;\">\n",
    "            این کد اعداد 0 تا 4 را چاپ می‌کند.\n",
    "        </p>\n",
    "    </div>\n",
    "    \n",
    "<div style=\"background-color: #fef9e7; padding: 12px; border-radius: 6px; border-right: 4px solid #f39c12; margin-bottom: 15px;\">\n",
    "        <h4 style=\"color: #d35400; font-size: 17px; margin-top: 0;\">کنترل حلقه:</h4>\n",
    "        <ul style=\"font-size: 15px; list-style-type: persian; padding-right: 20px; margin-bottom: 0;\">\n",
    "            <li><code style=\"background: #e0e0e0; padding: 2px 5px; border-radius: 3px;\">break</code>: خروج از حلقه</li>\n",
    "            <li><code style=\"background: #e0e0e0; padding: 2px 5px; border-radius: 3px;\">continue</code>: پرش به تکرار بعدی</li>\n",
    "        </ul>\n",
    "    </div>\n",
    "    \n",
    "<div style=\"background-color: #fdedec; padding: 12px; border-radius: 6px; border-right: 4px solid #e74c3c;\">\n",
    "        <h4 style=\"color: #c0392b; font-size: 17px; margin-top: 0;\">مثال کاربردی:</h4>\n",
    "        <pre style=\"background-color: #ffffff; padding: 10px; border-radius: 5px; font-family: 'Courier New', monospace; font-size: 14px; direction: ltr; text-align: left; margin: 0;\">\n",
    "while True:\n",
    "    user_input = input(\"یک عدد وارد کنید (یا 'exit' برای خروج): \")\n",
    "    if user_input == 'exit':\n",
    "        break\n",
    "    print(f\"مربع عدد: {int(user_input)**2}\")</pre>\n",
    "        <p style=\"font-size: 14px; margin-top: 8px; margin-bottom: 0;direction: rtl; text-align: right;\">\n",
    "            این کد تا زمانی که کاربر 'exit' وارد کند ادامه می‌یابد.\n",
    "        </p>\n",
    "    </div>\n",
    "</div>"
   ]
  },
  {
   "cell_type": "code",
   "execution_count": 26,
   "id": "b63d33e3-8a12-4985-9ed3-477da2da4f20",
   "metadata": {},
   "outputs": [
    {
     "name": "stdout",
     "output_type": "stream",
     "text": [
      "Count is: 0\n",
      "Count is: 1\n",
      "Count is: 2\n",
      "Count is: 3\n",
      "Count is: 4\n",
      "------------------\n"
     ]
    },
    {
     "name": "stdin",
     "output_type": "stream",
     "text": [
      "enter a num (or \"exit\" to quit):  5\n"
     ]
    },
    {
     "name": "stdout",
     "output_type": "stream",
     "text": [
      "square: 25\n"
     ]
    },
    {
     "name": "stdin",
     "output_type": "stream",
     "text": [
      "enter a num (or \"exit\" to quit):  6\n"
     ]
    },
    {
     "name": "stdout",
     "output_type": "stream",
     "text": [
      "square: 36\n"
     ]
    },
    {
     "name": "stdin",
     "output_type": "stream",
     "text": [
      "enter a num (or \"exit\" to quit):  exit\n"
     ]
    },
    {
     "name": "stdout",
     "output_type": "stream",
     "text": [
      "------------------\n",
      "i (with pass): 0\n",
      "i (with pass): 1\n",
      "i (with pass): 2\n"
     ]
    }
   ],
   "source": [
    "# while loop\n",
    "count = 0\n",
    "while count < 5:\n",
    "    print(\"Count is:\", count)\n",
    "    count += 1\n",
    "\n",
    "print(\"------------------\")\n",
    "\n",
    "while True:\n",
    "    user_input = input('enter a num (or \"exit\" to quit): ')\n",
    "    if user_input == 'exit':\n",
    "        break\n",
    "    print(f\"square: {int(user_input)**2}\")\n",
    "    \n",
    "print(\"------------------\")\n",
    "\n",
    "# using pass (does nothing but keeps the structure)\n",
    "for i in range(3):\n",
    "    if i == 1:\n",
    "        pass\n",
    "    print(\"i (with pass):\", i)"
   ]
  },
  {
   "cell_type": "code",
   "execution_count": null,
   "id": "80d62cb2-fb84-4b30-9442-708623e4f499",
   "metadata": {},
   "outputs": [],
   "source": []
  }
 ],
 "metadata": {
  "kernelspec": {
   "display_name": "Python 3 (ipykernel)",
   "language": "python",
   "name": "python3"
  },
  "language_info": {
   "codemirror_mode": {
    "name": "ipython",
    "version": 3
   },
   "file_extension": ".py",
   "mimetype": "text/x-python",
   "name": "python",
   "nbconvert_exporter": "python",
   "pygments_lexer": "ipython3",
   "version": "3.13.2"
  }
 },
 "nbformat": 4,
 "nbformat_minor": 5
}
