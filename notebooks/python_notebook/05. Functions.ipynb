{
 "cells": [
  {
   "cell_type": "markdown",
   "id": "d4a666d4-cc62-496e-ba24-969856c3baff",
   "metadata": {},
   "source": [
    "<div style=\"font-family: 'B Nazanin', Tahoma, sans-serif; direction: rtl; text-align: right; line-height: 1.8; padding: 20px; background-color: #f8f9fa; border-radius: 10px; box-shadow: 0 2px 5px rgba(0,0,0,0.1); margin: 15px 0;\">\n",
    "\n",
    "<h2 style=\"color: #2c3e50; border-bottom: 2px solid #3498db; padding-bottom: 10px; font-size: 24px;\"> توابع در پایتون</h2>\n",
    "    \n",
    "<div style=\"background-color: #fff; padding: 15px; border-radius: 8px; margin-bottom: 20px; border-right: 4px solid #3498db;\">\n",
    "        <h3 style=\"color: #2980b9; font-size: 20px; margin-top: 0;\">🔹 چرا از توابع استفاده می‌کنیم؟</h3>\n",
    "        <p style=\"font-size: 16px; text-align: justify;\">\n",
    "            توابع بلوک‌های کد قابل استفاده مجدد هستند که چندین مزیت مهم دارند:\n",
    "            <ul style=\"font-size: 16px; text-align: right; list-style-type: persian;\">\n",
    "                <li><strong>کاهش تکرار کد:</strong> به جای نوشتن چندباره یک کد، آن را یک بار در تابع می‌نویسیم و چندین بار استفاده می‌کنیم</li>\n",
    "                <li><strong>سازماندهی کد:</strong> کدها را به بخش‌های منطقی و قابل مدیریت تقسیم می‌کنند</li>\n",
    "                <li><strong>سهولت در اشکال‌زدایی:</strong> خطایابی کدهای modular ساده‌تر است</li>\n",
    "                <li><strong>قابلیت استفاده مجدد:</strong> می‌توان توابع را در پروژه‌های مختلف استفاده کرد</li>\n",
    "                <li><strong>پنهان‌سازی پیچیدگی:</strong> جزئیات پیاده‌سازی را از کاربر پنهان می‌کنند</li>\n",
    "            </ul>\n",
    "        </p>\n",
    "    </div>\n",
    "\n",
    "<div style=\"background-color: #eaf2f8; padding: 15px; border-radius: 8px; margin-bottom: 20px; border-right: 4px solid #3498db;\">\n",
    "        <h3 style=\"color: #2980b9; font-size: 20px; margin-top: 0;\">1. تعریف تابع پایه</h3>\n",
    "        <p style=\"font-size: 16px; text-align: justify;\">\n",
    "            ساده‌ترین نوع تابع که بدون پارامتر ورودی و مقدار بازگشتی تعریف می‌شود. برای کارهای ساده مانند چاپ پیام یا انجام عملیات ثابت استفاده می‌شود.\n",
    "        </p>\n",
    "        <pre style=\"background-color: #ffffff; padding: 12px; border-radius: 6px; font-family: 'Courier New', monospace; font-size: 16px; direction: ltr; text-align: left;\">\n",
    "def greet():\n",
    "    \"\"\"Display a simple greeting\"\"\"\n",
    "    print(\"Hello, World!\")\n",
    "    \n",
    "greet()  # Calling the function</pre>\n",
    "        <p style=\"font-size: 14px; color: #555;\">\n",
    "            نکته: رشته‌ای که در خط دوم تابع قرار می‌گیرد docstring نام دارد و برای مستندسازی تابع استفاده می‌شود.\n",
    "        </p>\n",
    "    </div>\n",
    "\n",
    "\n"
   ]
  },
  {
   "cell_type": "code",
   "execution_count": 1,
   "id": "60e09ab1-72aa-470b-903a-0ef569a1c1de",
   "metadata": {},
   "outputs": [
    {
     "name": "stdout",
     "output_type": "stream",
     "text": [
      "Hello, World!\n"
     ]
    }
   ],
   "source": [
    "def greet():\n",
    "    \"\"\"Display a simple greeting\"\"\"\n",
    "    print(\"Hello, World!\")\n",
    "    \n",
    "greet()  # Calling the function"
   ]
  },
  {
   "cell_type": "markdown",
   "id": "c7c32748-6224-46c8-9bcb-940eb3d1570d",
   "metadata": {},
   "source": [
    "<div style=\"font-family: 'B Nazanin', Tahoma, sans-serif; direction: rtl; text-align: right; line-height: 1.8; padding: 20px; background-color: #f8f9fa; border-radius: 10px; box-shadow: 0 2px 5px rgba(0,0,0,0.1); margin: 15px 0;\">\n",
    "<div style=\"background-color: #e8f8f5; padding: 15px; border-radius: 8px; margin-bottom: 20px; border-right: 4px solid #1abc9c;\">\n",
    "        <h3 style=\"color: #16a085; font-size: 20px; margin-top: 0;\">2. توابع با پارامتر و مقدار بازگشتی</h3>\n",
    "        <p style=\"font-size: 16px; text-align: justify;\">\n",
    "            توابع می‌توانند پارامتر ورودی دریافت کنند و نتایج را با دستور return برگردانند. این نوع توابع برای محاسبات و پردازش داده‌ها استفاده می‌شوند.\n",
    "        </p>\n",
    "        <pre style=\"background-color: #ffffff; padding: 12px; border-radius: 6px; font-family: 'Courier New', monospace; font-size: 16px; direction: ltr; text-align: left;\">\n",
    "def calculate_area(width, height):\n",
    "    \"\"\"Calculate rectangle area\"\"\"\n",
    "    area = width * height\n",
    "    return area\n",
    "    \n",
    "room_area = calculate_area(5, 4)\n",
    "print(f\"Room area: {room_area}\")</pre>\n",
    "        <p style=\"font-size: 14px; color: #555;\">\n",
    "            نکته: دستور return می‌تواند هر نوع داده‌ای را برگرداند و اجرای تابع را نیز پایان می‌دهد.\n",
    "        </p>\n",
    "    </div>\n",
    "  </div>"
   ]
  },
  {
   "cell_type": "code",
   "execution_count": 2,
   "id": "6e69c34e-8563-441a-8913-e227f55f5305",
   "metadata": {},
   "outputs": [
    {
     "name": "stdout",
     "output_type": "stream",
     "text": [
      "Room area: 20\n"
     ]
    }
   ],
   "source": [
    "def calculate_area(width, height):\n",
    "    \"\"\"Calculate rectangle area\"\"\"\n",
    "    area = width * height\n",
    "    return area\n",
    "    \n",
    "room_area = calculate_area(5, 4)\n",
    "print(f\"Room area: {room_area}\")"
   ]
  },
  {
   "cell_type": "markdown",
   "id": "f7a00bc7-d2a0-4bc1-a58b-164c85df426c",
   "metadata": {},
   "source": [
    "<div style=\"font-family: 'B Nazanin', Tahoma, sans-serif; direction: rtl; text-align: right; line-height: 1.8; padding: 20px; background-color: #f8f9fa; border-radius: 10px; box-shadow: 0 2px 5px rgba(0,0,0,0.1); margin: 15px 0;\">\n",
    "<div style=\"background-color: #fef9e7; padding: 15px; border-radius: 8px; margin-bottom: 20px; border-right: 4px solid #f39c12;\">\n",
    "        <h3 style=\"color: #d35400; font-size: 20px; margin-top: 0;\">3. پارامترهای پیش‌فرض</h3>\n",
    "        <p style=\"font-size: 16px; text-align: justify;\">\n",
    "            می‌توان برای پارامترها مقدار پیش‌فرض تعریف کرد تا در صورت عدم ارسال آرگومان، از مقدار پیش‌فرض استفاده شود. این ویژگی انعطاف‌پذیری توابع را افزایش می‌دهد.\n",
    "        </p>\n",
    "        <pre style=\"background-color: #ffffff; padding: 12px; border-radius: 6px; font-family: 'Courier New', monospace; font-size: 16px; direction: ltr; text-align: left;\">\n",
    "def create_user(name, age, is_active=True, role='member'):\n",
    "    \"\"\"Create a user with default parameters\"\"\"\n",
    "    return {\n",
    "        'name': name,\n",
    "        'age': age,\n",
    "        'is_active': is_active,\n",
    "        'role': role\n",
    "    }\n",
    "    \n",
    "user1 = create_user(\"Alice\", 25)\n",
    "user2 = create_user(\"Bob\", 30, False, 'admin')</pre>\n",
    "        <p style=\"font-size: 14px; color: #555;\">\n",
    "            نکته: پارامترهای پیش‌فرض باید بعد از پارامترهای اجباری قرار بگیرند.\n",
    "        </p>\n",
    "    </div>\n",
    "</div>"
   ]
  },
  {
   "cell_type": "code",
   "execution_count": 5,
   "id": "c25e604f-9864-42a2-981f-07591f80b010",
   "metadata": {},
   "outputs": [],
   "source": [
    "def create_user(name, age, is_active=True, role='member'):\n",
    "    \"\"\"Create a user with default parameters\"\"\"\n",
    "    return {\n",
    "        'name': name,\n",
    "        'age': age,\n",
    "        'is_active': is_active,\n",
    "        'role': role\n",
    "    }\n",
    "    \n",
    "user1 = create_user(\"Alice\", 25)\n",
    "user2 = create_user(\"Bob\", 30, False, 'admin')"
   ]
  },
  {
   "cell_type": "markdown",
   "id": "7afe0044-b7e4-4535-a597-2b972246dcc2",
   "metadata": {},
   "source": [
    "<div style=\"font-family: 'B Nazanin', Tahoma, sans-serif; direction: rtl; text-align: right; line-height: 1.8; padding: 20px; background-color: #f8f9fa; border-radius: 10px; box-shadow: 0 2px 5px rgba(0,0,0,0.1); margin: 15px 0;\">\n",
    "<div style=\"background-color: #f5eef8; padding: 15px; border-radius: 8px; margin-bottom: 20px; border-right: 4px solid #9b59b6;\">\n",
    "        <h3 style=\"color: #8e44ad; font-size: 20px; margin-top: 0;\">4. پارامترهای نامحدود (*args و **kwargs)</h3>\n",
    "        <p style=\"font-size: 16px; text-align: justify;\">\n",
    "            وقتی تعداد پارامترهای ورودی نامشخص است، از *args برای دریافت آرگومان‌های موقعیتی و **kwargs برای دریافت آرگومان‌های کلیدواژه‌ای استفاده می‌کنیم.\n",
    "        </p>\n",
    "        <pre style=\"background-color: #ffffff; padding: 12px; border-radius: 6px; font-family: 'Courier New', monospace; font-size: 16px; direction: ltr; text-align: left;\">\n",
    "def process_data(*args, **kwargs):\n",
    "    \"\"\"Process variable number of arguments\"\"\"\n",
    "    print(\"Positional arguments:\", args)\n",
    "    print(\"Keyword arguments:\", kwargs)\n",
    "    total = sum(args) * (kwargs.get('multiplier', 1))\n",
    "    return total\n",
    "    \n",
    "result = process_data(1, 2, 3, multiplier=2, operation='sum')\n",
    "print(\"Result:\", result)</pre>\n",
    "        <p style=\"font-size: 14px; color: #555;\">\n",
    "            نکته: args به صورت تاپل و kwargs به صورت دیکشنری ذخیره می‌شوند.\n",
    "        </p>\n",
    "    </div>\n",
    "</div>"
   ]
  },
  {
   "cell_type": "code",
   "execution_count": 6,
   "id": "30d6739a-e20c-4bb9-997f-b8e0f6669822",
   "metadata": {},
   "outputs": [
    {
     "name": "stdout",
     "output_type": "stream",
     "text": [
      "Positional arguments: (1, 2, 3)\n",
      "Keyword arguments: {'multiplier': 2, 'operation': 'sum'}\n",
      "Result: 12\n"
     ]
    }
   ],
   "source": [
    "def process_data(*args, **kwargs):\n",
    "    \"\"\"Process variable number of arguments\"\"\"\n",
    "    print(\"Positional arguments:\", args)\n",
    "    print(\"Keyword arguments:\", kwargs)\n",
    "    total = sum(args) * (kwargs.get('multiplier', 1))\n",
    "    return total\n",
    "    \n",
    "result = process_data(1, 2, 3, multiplier=2, operation='sum')\n",
    "print(\"Result:\", result)"
   ]
  },
  {
   "cell_type": "markdown",
   "id": "30a8d2ea-27b6-4d74-b424-959524507b86",
   "metadata": {},
   "source": [
    "<div style=\"font-family: 'B Nazanin', Tahoma, sans-serif; direction: rtl; text-align: right; line-height: 1.8; padding: 20px; background-color: #f8f9fa; border-radius: 10px; box-shadow: 0 2px 5px rgba(0,0,0,0.1); margin: 15px 0;\">\n",
    "<div style=\"background-color: #fdedec; padding: 15px; border-radius: 8px; border-right: 4px solid #e74c3c;\">\n",
    "        <h3 style=\"color: #c0392b; font-size: 20px; margin-top: 0;\">5. توابع بازگشتی</h3>\n",
    "        <p style=\"font-size: 16px; text-align: justify;\">\n",
    "            توابع بازگشتی توابعی هستند که خودشان را فراخوانی می‌کنند. این توابع برای حل مسائلی که ذاتاً بازگشتی هستند (مانند محاسبه فاکتوریل یا پیمایش درخت) مناسبند.\n",
    "        </p>\n",
    "        <pre style=\"background-color: #ffffff; padding: 12px; border-radius: 6px; font-family: 'Courier New', monospace; font-size: 16px; direction: ltr; text-align: left;\">\n",
    "def factorial(n):\n",
    "    \"\"\"Calculate factorial recursively\"\"\"\n",
    "    if n == 0:\n",
    "        return 1\n",
    "    else:\n",
    "        return n * factorial(n-1)\n",
    "    \n",
    "print(factorial(5))  # 5! = 120</pre>\n",
    "        <p style=\"font-size: 14px; color: #555;\">\n",
    "            نکته: هر تابع بازگشتی باید یک شرط پایه داشته باشد تا از بازگشت بی‌نهایت جلوگیری کند.\n",
    "        </p>\n",
    "    </div>\n",
    "</div>\n"
   ]
  },
  {
   "cell_type": "code",
   "execution_count": 7,
   "id": "48dd0c01-6d3e-4233-a843-938661abd295",
   "metadata": {},
   "outputs": [
    {
     "name": "stdout",
     "output_type": "stream",
     "text": [
      "120\n"
     ]
    }
   ],
   "source": [
    "def factorial(n):\n",
    "    \"\"\"Calculate factorial recursively\"\"\"\n",
    "    if n == 0:\n",
    "        return 1\n",
    "    else:\n",
    "        return n * factorial(n-1)\n",
    "    \n",
    "print(factorial(5))  # 5! = 120"
   ]
  },
  {
   "cell_type": "markdown",
   "id": "761324c1-39d6-42aa-bd04-efaa38de7572",
   "metadata": {},
   "source": [
    "<div style=\"font-family: 'B Nazanin', Tahoma, sans-serif; direction: rtl; text-align: right; line-height: 1.8; padding: 20px; background-color: #f8f9fa; border-radius: 10px; box-shadow: 0 2px 5px rgba(0,0,0,0.1); margin: 15px 0;\">\n",
    "<div style=\"background-color: #e8f4f8; padding: 15px; border-radius: 8px; margin-top: 20px; border-right: 4px solid #2980b9;\">\n",
    "        <h3 style=\"color: #3498db; font-size: 20px; margin-top: 0;\">6. توابع Lambda</h3>\n",
    "        <p style=\"font-size: 16px; text-align: justify;\">\n",
    "            توابع lambda یا توابع ناشناس، توابع یک خطی هستند که برای کارهای ساده استفاده می‌شوند و نیازی به نام ندارند. این توابع معمولاً به عنوان آرگومان به توابع دیگر پاس داده می‌شوند.\n",
    "        </p>\n",
    "        <pre style=\"background-color: #ffffff; padding: 12px; border-radius: 6px; font-family: 'Courier New', monospace; font-size: 16px; direction: ltr; text-align: left;\">\n",
    "# Simple lambda function\n",
    "square = lambda x: x ** 2\n",
    "print(square(4))  # Output: 16\n",
    "\n",
    "# Using with map()\n",
    "numbers = [1, 2, 3, 4]\n",
    "squared = list(map(lambda x: x**2, numbers))\n",
    "print(squared)  # Output: [1, 4, 9, 16]\n",
    "\n",
    "# Using with filter()\n",
    "evens = list(filter(lambda x: x % 2 == 0, numbers))\n",
    "print(evens)  # Output: [2, 4]</pre>\n",
    "        <p style=\"font-size: 14px; color: #555;\">\n",
    "            نکته: توابع lambda محدود هستند و نمی‌توانند شامل دستورات پیچیده یا چندخطی باشند.\n",
    "        </p>\n",
    "    </div>\n",
    "</div>"
   ]
  },
  {
   "cell_type": "code",
   "execution_count": 8,
   "id": "187f27e6-9f9a-42eb-9dcd-fa887c2177c4",
   "metadata": {},
   "outputs": [
    {
     "name": "stdout",
     "output_type": "stream",
     "text": [
      "16\n"
     ]
    }
   ],
   "source": [
    "# Simple lambda function\n",
    "square = lambda x: x ** 2\n",
    "print(square(4))  # Output: 16"
   ]
  },
  {
   "cell_type": "code",
   "execution_count": 9,
   "id": "6c39d113-a63f-4829-957d-1894618114f7",
   "metadata": {},
   "outputs": [
    {
     "name": "stdout",
     "output_type": "stream",
     "text": [
      "[1, 4, 9, 16]\n"
     ]
    }
   ],
   "source": [
    "numbers = [1, 2, 3, 4]\n",
    "squared = list(map(lambda x: x**2, numbers))\n",
    "print(squared)  # Output: [1, 4, 9, 16]"
   ]
  },
  {
   "cell_type": "code",
   "execution_count": 10,
   "id": "952a899d-da9c-4824-9694-829cfbddbc71",
   "metadata": {},
   "outputs": [
    {
     "name": "stdout",
     "output_type": "stream",
     "text": [
      "[2, 4]\n"
     ]
    }
   ],
   "source": [
    "evens = list(filter(lambda x: x % 2 == 0, numbers))\n",
    "print(evens)  # Output: [2, 4]"
   ]
  }
 ],
 "metadata": {
  "kernelspec": {
   "display_name": "Python 3 (ipykernel)",
   "language": "python",
   "name": "python3"
  },
  "language_info": {
   "codemirror_mode": {
    "name": "ipython",
    "version": 3
   },
   "file_extension": ".py",
   "mimetype": "text/x-python",
   "name": "python",
   "nbconvert_exporter": "python",
   "pygments_lexer": "ipython3",
   "version": "3.13.2"
  }
 },
 "nbformat": 4,
 "nbformat_minor": 5
}
