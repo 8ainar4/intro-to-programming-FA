{
 "cells": [
  {
   "cell_type": "markdown",
   "id": "dfa4fe56-71c5-4118-b9e6-7d43c6d0fbd1",
   "metadata": {},
   "source": [
    "<div style=\"font-family: 'B Nazanin', sans-serif; direction: rtl; text-align: center; margin-top: 30px;\">\n",
    "    <h2 style=\"font-family: 'Arial', sans-serif; direction: ltr; font-size: 26px; text-align: center; margin-bottom: 10px;\">Introduction to Programming</h2>\n",
    "    <p style=\"font-family: 'Arial', sans-serif; font-size: 20px; direction: ltr; margin: 0; text-align: center;\">Rania Baghernejad</p>\n",
    "    <p style=\"font-family: 'Arial', sans-serif; font-size: 18px; direction: ltr; margin: 0; text-align: center;\">Python - Chapter 2</p>\n",
    "    <p style=\"font-size: 20px; margin-top: 10px; text-align: center;\">دستورات پرینت و گرفتن ورودی (Print & Input)</p>\n",
    "</div>\n",
    "\n"
   ]
  },
  {
   "cell_type": "markdown",
   "id": "77093c77-db50-4725-a649-4195978e7561",
   "metadata": {},
   "source": [
    "<div style=\"font-family: B Nazanin, sans-serif; direction: rtl; text-align: right;\">\n",
    "<h2><b>بخش ۱: چاپ خروجی و دریافت ورودی</b></h2>\n",
    "<p style=\"font-size: 18px; direction: rtl; text-align: right;\">\n",
    "در این بخش با روش‌های مختلف چاپ اطلاعات و گرفتن ورودی از کاربر در پایتون آشنا می‌شویم. دستور <code>print</code> برای نمایش داده‌ها و دستور <code>input</code> برای گرفتن اطلاعات از کاربر استفاده می‌شود.\n",
    "</p>\n",
    "</div>"
   ]
  },
  {
   "cell_type": "markdown",
   "id": "f2b4806d-b4c8-474c-8ad2-c68d62bd85ec",
   "metadata": {},
   "source": [
    "<p style=\"font-family: B Nazanin, sans-serif; font-size: 18px; direction: rtl; text-align: right;\">\n",
    "<strong>۱. دستور ساده‌ی print:</strong>\n",
    "</p>\n",
    "<pre style=\"background-color: #f8f8f8; font-family: Consolas, monospace; padding: 10px;\">\n",
    "print(\"Hello World!\")\n",
    "print(\"number:\", 42)\n",
    "</pre>"
   ]
  },
  {
   "cell_type": "code",
   "execution_count": 8,
   "id": "8a4ff6a6-8d0f-4c23-8139-d75cbe728dde",
   "metadata": {},
   "outputs": [
    {
     "name": "stdout",
     "output_type": "stream",
     "text": [
      "Hello World!\n",
      "number: 42\n"
     ]
    }
   ],
   "source": [
    "print(\"Hello World!\")\n",
    "print(\"number:\", 42)"
   ]
  },
  {
   "cell_type": "markdown",
   "id": "1bb4a920-f7f2-4ccf-9a1e-c0eaa8956591",
   "metadata": {},
   "source": [
    "<p style=\"font-family: B Nazanin, sans-serif; font-size: 18px; direction: rtl; text-align: right;\">\n",
    "<strong>۲. استفاده از <code>sep</code> برای تعیین جداکننده بین آیتم‌ها:</strong>\n",
    "</p>\n",
    "<pre style=\"background-color: #f8f8f8; font-family: Consolas, monospace; padding: 10px;\">\n",
    "print(\"2025\", \"06\", \"05\", sep=\"-\")\n",
    "# output: 2025-06-05\n",
    "</pre>"
   ]
  },
  {
   "cell_type": "markdown",
   "id": "252ffbd6-448f-4e27-89b7-ed8b26364064",
   "metadata": {},
   "source": [
    "<p style=\"font-family: B Nazanin, sans-serif; font-size: 18px; direction: rtl; text-align: right;\">\n",
    "<strong>۳. استفاده از <code>end</code> برای تعیین پایان خط:</strong>\n",
    "</p>\n",
    "<pre style=\"background-color: #f8f8f8; font-family: Consolas, monospace; padding: 10px;\">\n",
    "print(\"first value\", end=\" *** \")\n",
    "print(\"second value\")\n",
    "# output: first value *** second value\n",
    "</pre>"
   ]
  },
  {
   "cell_type": "markdown",
   "id": "060bbd76-6480-49b9-86bb-c8a946bbe246",
   "metadata": {},
   "source": [
    "<p style=\"font-family: B Nazanin, sans-serif; font-size: 18px; direction: rtl; text-align: right;\">\n",
    "<strong>۴. قالب‌بندی با f-string:</strong> روش مدرن و خوانا برای قرار دادن متغیر در متن.\n",
    "</p>\n",
    "<pre style=\"background-color: #f8f8f8; font-family: Consolas, monospace; padding: 10px;\">\n",
    "name = \"Rania\"\n",
    "age = 19\n",
    "print(f\"name: {name}, age: {age}\")\n",
    "</pre>"
   ]
  },
  {
   "cell_type": "code",
   "execution_count": 9,
   "id": "c2e72beb-050b-426f-8c82-226ab7260e5c",
   "metadata": {},
   "outputs": [
    {
     "name": "stdout",
     "output_type": "stream",
     "text": [
      "name: Rania, age: 19\n"
     ]
    }
   ],
   "source": [
    "name = \"Rania\"\n",
    "age = 19\n",
    "print(f\"name: {name}, age: {age}\")"
   ]
  },
  {
   "cell_type": "markdown",
   "id": "4e127465-bbd1-45dd-80ca-f5c349c05f55",
   "metadata": {},
   "source": [
    "<p style=\"font-family: B Nazanin, sans-serif; font-size: 18px; direction: rtl; text-align: right;\">\n",
    "<strong>۵. استفاده از <code>.format()</code> برای قالب‌بندی:</strong>\n",
    "</p>\n",
    "<pre style=\"background-color: #f8f8f8; font-family: Consolas, monospace; padding: 10px;\">\n",
    "name = \"Rania\"\n",
    "age = 19\n",
    "print(\"name: {}, age: {}\".format(name, age))\n",
    "</pre>"
   ]
  },
  {
   "cell_type": "code",
   "execution_count": 10,
   "id": "b6f218fe-3c6d-4883-bb74-8b657bcedf48",
   "metadata": {},
   "outputs": [
    {
     "name": "stdout",
     "output_type": "stream",
     "text": [
      "name: Rania, age: 19\n"
     ]
    }
   ],
   "source": [
    "name = \"Rania\"\n",
    "age = 19\n",
    "print(\"name: {}, age: {}\".format(name, age))"
   ]
  },
  {
   "cell_type": "markdown",
   "id": "96b9a99d-5383-46bc-92ab-a732f8b9ede6",
   "metadata": {},
   "source": [
    "<p style=\"font-family: B Nazanin, sans-serif; font-size: 18px; direction: rtl; text-align: right;\">\n",
    "<strong>۶. گرفتن ورودی از کاربر با input:</strong>\n",
    "تابع <code>()input</code> همیشه خروجی را به صورت رشته (string) برمی‌گرداند. برای تبدیل به عدد باید از توابع <code>int</code> یا <code>float</code> استفاده کرد.\n",
    "</p>\n",
    "<pre style=\"background-color: #f8f8f8; font-family: Consolas, monospace; padding: 10px;\">\n",
    "name = input(\"enter your name: \")\n",
    "age = int(input(\"enter your age: \"))\n",
    "print(f\"dear {name}, you are {age} years old :).\")\n",
    "</pre>"
   ]
  },
  {
   "cell_type": "code",
   "execution_count": 11,
   "id": "0cfcbb2d-c0c7-470d-9352-30fc543c4eb2",
   "metadata": {},
   "outputs": [
    {
     "name": "stdin",
     "output_type": "stream",
     "text": [
      "enter your name:  Rania\n",
      "enter your age:  19\n"
     ]
    },
    {
     "name": "stdout",
     "output_type": "stream",
     "text": [
      "dear Rania, you are 19 years old :).\n"
     ]
    }
   ],
   "source": [
    "name = input(\"enter your name: \")\n",
    "age = int(input(\"enter your age: \"))\n",
    "print(f\"dear {name}, you are {age} years old :).\")"
   ]
  },
  {
   "cell_type": "markdown",
   "id": "42e27335-d117-40e5-9f47-20b401ceec92",
   "metadata": {},
   "source": [
    "<p style=\"font-family: B Nazanin, sans-serif; font-size: 18px; direction: rtl; text-align: right;\">\n",
    "<strong>نکته:</strong> برای اینکه ورودی عددی داشته باشید، باید مقدار گرفته شده از <code>()input</code> را با <code>()int</code> یا <code>()float</code> تبدیل کنید؛ چون به صورت پیش‌فرض <code>()input</code> مقدار را به صورت متن (string) برمی‌گرداند.\n",
    "</p>"
   ]
  },
  {
   "cell_type": "markdown",
   "id": "4eb89cf7-867a-439b-932d-3835191a9f81",
   "metadata": {},
   "source": [
    "<p style=\"font-family: B Nazanin, sans-serif; font-size: 18px; direction: rtl; text-align: right;\">\n",
    "در این بخش با روش‌های مختلف چاپ اطلاعات و دریافت داده از کاربر آشنا شدیم. در بخش بعدی به سراغ دستورات شرطی خواهیم رفت.\n",
    "</p>"
   ]
  }
 ],
 "metadata": {
  "kernelspec": {
   "display_name": "Python 3 (ipykernel)",
   "language": "python",
   "name": "python3"
  },
  "language_info": {
   "codemirror_mode": {
    "name": "ipython",
    "version": 3
   },
   "file_extension": ".py",
   "mimetype": "text/x-python",
   "name": "python",
   "nbconvert_exporter": "python",
   "pygments_lexer": "ipython3",
   "version": "3.13.2"
  }
 },
 "nbformat": 4,
 "nbformat_minor": 5
}
