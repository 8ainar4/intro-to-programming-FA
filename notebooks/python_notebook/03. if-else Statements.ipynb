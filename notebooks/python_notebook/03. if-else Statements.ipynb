{
 "cells": [
  {
   "cell_type": "markdown",
   "id": "a1e850fe-d63b-4b57-a7d3-297737bf4d10",
   "metadata": {},
   "source": [
    "<div style=\"font-family: 'B Nazanin', sans-serif; direction: rtl; text-align: center; margin-top: 30px;\">\n",
    "    <h2 style=\"font-family: 'Arial', sans-serif; direction: ltr; font-size: 26px; text-align: center; margin-bottom: 10px;\">Introduction to Programming</h2>\n",
    "    <p style=\"font-family: 'Arial', sans-serif; font-size: 20px; direction: ltr; margin: 0; text-align: center;\">Rania Baghernejad</p>\n",
    "    <p style=\"font-family: 'Arial', sans-serif; font-size: 18px; direction: ltr; margin: 0; text-align: center;\">Python - Chapter 3</p>\n",
    "    <p style=\"font-size: 20px; margin-top: 10px; text-align: center;\">دستورات شرطی (if/else/elif/match-case)</p>\n",
    "</div>"
   ]
  },
  {
   "cell_type": "markdown",
   "id": "e66e93f3-397b-4e60-906d-36f4dd4c6a26",
   "metadata": {},
   "source": [
    "<p style=\"font-family: B Nazanin, sans-serif; font-size: 20px; direction: rtl; text-align: right;\">\n",
    "<strong>ساختارهای شرطی در پایتون:</strong>\n",
    "<br><br>\n",
    "در برنامه‌نویسی، تصمیم‌گیری یکی از پایه‌های اصلی اجرای درست منطق برنامه است. در پایتون، برای انجام تصمیم‌گیری از دستورات شرطی استفاده می‌کنیم. با استفاده از این دستورات می‌توان مشخص کرد که در چه شرایطی کدام بخش از کد اجرا شود.\n",
    "<br><br>\n",
    "پایه‌ای‌ترین ساختار شرطی در پایتون، دستور <code>if</code> است. این دستور بررسی می‌کند که آیا یک شرط خاص برقرار است یا نه. اگر شرط برقرار باشد، دستورات درون بلوک <code>if</code> اجرا می‌شوند. در غیر این صورت، اگر وجود داشته باشد، بلوک <code>else</code> یا <code>elif</code> (else if) بررسی می‌شود.\n",
    "</p>\n",
    "\n",
    "<p style=\"font-family: B Nazanin, sans-serif; font-size: 20px; direction: rtl; text-align: right;\">\n",
    "<strong>ساختار کلی شرط‌ها:</strong>\n",
    "</p>\n",
    "\n",
    "<pre style=\"background-color: #f8f8f8; padding: 10px; font-family: Consolas, monospace;\">\n",
    "if condition1:\n",
    "    # do something\n",
    "elif condition2:\n",
    "    # do something else\n",
    "else:\n",
    "    # do something if none of the above is true\n",
    "</pre>\n",
    "\n",
    "<p style=\"font-family: B Nazanin, sans-serif; font-size: 20px; direction: rtl; text-align: right;\">\n",
    "<strong> نکات مهم:</strong>\n",
    "<ul style=\"font-family: B Nazanin, sans-serif; font-size: 16px; direction: rtl; text-align: right;\">\n",
    "<li>شرط‌ها باید <code>True</code> یا <code>False</code> باشند (مستقیماً یا با استفاده از عملگرها).</li>\n",
    "<li>برای ترکیب شرط‌ها از عملگرهای منطقی <code>and</code>، <code>or</code>، و <code>not</code> استفاده می‌شود.</li>\n",
    "<li>در پایتون برای بلوک‌بندی از تورفتگی (indentation) استفاده می‌کنیم.</li>\n",
    "<li>می‌توان از <code>in</code> و <code>not in</code> برای بررسی عضویت یک مقدار در یک لیست، رشته یا مجموعه استفاده کرد.</li>\n",
    "<li>از نسخه 3.10 به بعد می‌توان به جای چندین شرط پشت سر هم از ساختار <code>match</code> استفاده کرد (مشابه switch در سایر زبان‌ها).</li>\n",
    "</ul>\n",
    "</p>"
   ]
  },
  {
   "cell_type": "markdown",
   "id": "f5017919-294e-4d0f-a334-336e671360f1",
   "metadata": {},
   "source": [
    "<p style=\"font-family: B Nazanin, sans-serif; font-size: 20px; direction: rtl; text-align: right;\">\n",
    "<strong>ساختار پایه‌ی دستور شرطی if:</strong>\n",
    "</p>\n",
    "<pre style=\"background-color: #f8f8f8; padding: 10px; font-family: B Nazanin, sans-serif;\">\n",
    "if شرط:\n",
    "    دستورات در صورت درست بودن شرط\n",
    "else:\n",
    "    دستورات در صورت نادرست بودن شرط\n",
    "</pre>"
   ]
  },
  {
   "cell_type": "markdown",
   "id": "c7105bfe-ead6-4e7a-8460-e5b4a41c12ab",
   "metadata": {},
   "source": [
    "<p style=\"font-family: B Nazanin, sans-serif; font-size: 18px; direction: rtl; text-align: right;\">\n",
    "مثال: بررسی سن برای اجازه ورود:\n",
    "</p>\n",
    "<pre style=\"background-color: #f0f0f0; padding: 10px; font-family: Consolas, monospace;\">\n",
    "age = int(input(\"enter your age: \"))\n",
    "if age >= 18:\n",
    "    print(\"access granted.\")\n",
    "else:\n",
    "    print(\"access denied.\")\n",
    "</pre>"
   ]
  },
  {
   "cell_type": "code",
   "execution_count": 2,
   "id": "90fdf224-554e-4c0e-b043-bbc5491a016a",
   "metadata": {},
   "outputs": [
    {
     "name": "stdin",
     "output_type": "stream",
     "text": [
      "enter your age:  19\n"
     ]
    },
    {
     "name": "stdout",
     "output_type": "stream",
     "text": [
      "access granted.\n"
     ]
    }
   ],
   "source": [
    "age = int(input(\"enter your age: \"))\n",
    "if age >= 18:\n",
    "    print(\"access granted.\")\n",
    "else:\n",
    "    print(\"access denied.\")"
   ]
  },
  {
   "cell_type": "markdown",
   "id": "b25b662a-15b7-47c6-b542-941175bb55eb",
   "metadata": {},
   "source": [
    "<p style=\"font-family: B Nazanin, sans-serif; font-size: 18px; direction: rtl; text-align: right;\">\n",
    "<strong>استفاده از elif برای بررسی چندین وضعیت:</strong>\n",
    "</p>\n",
    "<pre style=\"background-color: #f8f8f8; padding: 10px; font-family: Consolas, monospace;\">\n",
    "score = int(input(\"Enter your score: \"))\n",
    "\n",
    "if score >= 90:\n",
    "    print(\"Excellent\")\n",
    "elif score >= 75:\n",
    "    print(\"Good\")\n",
    "elif score >= 60:\n",
    "    print(\"Pass\")\n",
    "else:\n",
    "    print(\"Fail\")\n",
    "</pre>"
   ]
  },
  {
   "cell_type": "code",
   "execution_count": 3,
   "id": "d18dcf09-b387-4adb-9448-96ae5ad6d2db",
   "metadata": {},
   "outputs": [
    {
     "name": "stdin",
     "output_type": "stream",
     "text": [
      "Enter your score:  78\n"
     ]
    },
    {
     "name": "stdout",
     "output_type": "stream",
     "text": [
      "Good\n"
     ]
    }
   ],
   "source": [
    "score = int(input(\"Enter your score: \"))\n",
    "\n",
    "if score >= 90:\n",
    "    print(\"Excellent\")\n",
    "elif score >= 75:\n",
    "    print(\"Good\")\n",
    "elif score >= 60:\n",
    "    print(\"Pass\")\n",
    "else:\n",
    "    print(\"Fail\")"
   ]
  },
  {
   "cell_type": "markdown",
   "id": "cbb3bf20-3b90-4afe-91fa-6baab060ab3e",
   "metadata": {},
   "source": [
    "<p style=\"font-family: B Nazanin, sans-serif; font-size: 18px; direction: rtl; text-align: right;\">\n",
    "<strong>مثال: نمایش اطلاعات به‌صورت قالب‌بندی‌شده</strong><br>\n",
    "در این مثال، از قالب‌بندی رشته‌ها استفاده می‌کنیم تا خروجی منظم و خوانا باشد. مثل:\n",
    "<ul>\n",
    "<li style=\"font-family: B Nazanin, sans-serif; font-size: 18px; direction: rtl; text-align: right;\">تنظیم تعداد رقم اعشار</li>\n",
    "<li style=\"font-family: B Nazanin, sans-serif; font-size: 18px; direction: rtl; text-align: right;\">تراز کردن متون</li>\n",
    "<li style=\"font-family: B Nazanin, sans-serif; font-size: 18px; direction: rtl; text-align: right;\">چاپ جدول‌مانند</li>\n",
    "</ul>\n",
    "</p>\n",
    "\n",
    "<pre style=\"background-color: #f8f8f8; padding: 10px; font-family: Consolas, monospace;\">\n",
    "name = input(\"Enter your name: \")\n",
    "average = float(input(\"Enter your GPA: \"))\n",
    "\n",
    "if average >= 17:\n",
    "    status = \"Excellent\"\n",
    "elif average >= 14:\n",
    "    status = \"Good\"\n",
    "else:\n",
    "    status = \"Try harder\"\n",
    "\n",
    "print(\"{:<15} | {:>6.2f} | {:^20}\".format(name, average, status))\n",
    "</pre>\n",
    "\n",
    "<p style=\"font-family: B Nazanin, sans-serif; font-size: 16px; direction: rtl; text-align: right;\">\n",
    "در قالب بالا:\n",
    "<ul>\n",
    "<li style=\"font-family: B Nazanin, sans-serif; font-size: 18px;\"><code>{:&lt;15}</code>: تراز به چپ با عرض ۱۵ کاراکتر</li>\n",
    "<li style=\"font-family: B Nazanin, sans-serif; font-size: 18px;\"><code>{:&gt;6.2f}</code>: تراز به راست، عدد اعشاری با ۲ رقم بعد از ممیز</li>\n",
    "<li style=\"font-family: B Nazanin, sans-serif; font-size: 18px;\"><code>{:^20}</code>: تراز وسط با عرض ۲۰ کاراکتر</li>\n",
    "</ul>\n",
    "</p>"
   ]
  },
  {
   "cell_type": "code",
   "execution_count": 18,
   "id": "11bb070a-8e54-423d-83e7-a3af28f8f2eb",
   "metadata": {},
   "outputs": [
    {
     "name": "stdin",
     "output_type": "stream",
     "text": [
      "Enter your name:  Rania\n",
      "Enter your GPA:  16\n"
     ]
    },
    {
     "name": "stdout",
     "output_type": "stream",
     "text": [
      "Rania           |  16.00 |         Good        \n"
     ]
    }
   ],
   "source": [
    "name = input(\"Enter your name: \")\n",
    "average = float(input(\"Enter your GPA: \"))\n",
    "\n",
    "if average >= 17:\n",
    "    status = \"Excellent\"\n",
    "elif average >= 14:\n",
    "    status = \"Good\"\n",
    "else:\n",
    "    status = \"Try harder\"\n",
    "\n",
    "print(\"{:<15} | {:>6.2f} | {:^20}\".format(name, average, status))"
   ]
  },
  {
   "cell_type": "markdown",
   "id": "a3ebeb64-8222-43e7-8b7d-ae8f25d49c3e",
   "metadata": {},
   "source": [
    "<p style=\"font-family: B Nazanin, sans-serif; font-size: 20px; direction: rtl; text-align: right;\">\n",
    "<strong>استفاده از شرط‌های تو در تو:</strong>\n",
    "<br>\n",
    "در این ساختار می‌توان داخل هر بلوک if یا else، دوباره از شرط استفاده کرد. این روش زمانی استفاده می‌شود که بخواهیم چند شرط وابسته به هم را بررسی کنیم.\n",
    "</p>\n",
    "\n",
    "<pre style=\"background-color: #f8f8f8; padding: 10px; font-family: Consolas, monospace;\">\n",
    "username = input(\"Enter your username: \")\n",
    "password = input(\"Enter your password: \")\n",
    "\n",
    "if username == \"admin\":\n",
    "    if password == \"1234\":\n",
    "        print(\"Login successful\")\n",
    "    else:\n",
    "        print(\"Incorrect password\")\n",
    "else:\n",
    "    print(\"Username not found\")\n",
    "</pre>"
   ]
  },
  {
   "cell_type": "code",
   "execution_count": 5,
   "id": "3d2ad7db-b929-4202-b1ad-f84cf57df87e",
   "metadata": {},
   "outputs": [
    {
     "name": "stdin",
     "output_type": "stream",
     "text": [
      "Enter your username:  rania\n",
      "Enter your password:  5678\n"
     ]
    },
    {
     "name": "stdout",
     "output_type": "stream",
     "text": [
      "Username not found\n"
     ]
    }
   ],
   "source": [
    "username = input(\"Enter your username: \")\n",
    "password = input(\"Enter your password: \")\n",
    "\n",
    "if username == \"admin\":\n",
    "    if password == \"1234\":\n",
    "        print(\"Login successful\")\n",
    "    else:\n",
    "        print(\"Incorrect password\")\n",
    "else:\n",
    "    print(\"Username not found\")"
   ]
  },
  {
   "cell_type": "markdown",
   "id": "03ed60ef-9a1a-44db-b93b-47985a781f09",
   "metadata": {},
   "source": [
    "<p style=\"font-family: B Nazanin, sans-serif; font-size: 20px; direction: rtl; text-align: right;\">\n",
    "<strong>استفاده از عملگرهای منطقی در شرط‌ها:</strong>\n",
    "<ul>\n",
    "<li style=\"font-family: B Nazanin, sans-serif; font-size: 20px; direction: rtl; text-align: right;\"><code>and</code>: هر دو شرط باید برقرار باشند.</li>\n",
    "<li style=\"font-family: B Nazanin, sans-serif; font-size: 20px; direction: rtl; text-align: right;\"><code>or</code>: کافیست یکی از شرط‌ها برقرار باشد.</li>\n",
    "</ul>\n",
    "</p>\n",
    "\n",
    "<pre style=\"background-color: #f8f8f8; padding: 10px; font-family: Consolas, monospace;\">\n",
    "age = int(input(\"Enter your age: \"))\n",
    "has_ticket = input(\"Do you have a ticket? (yes/no): \")\n",
    "\n",
    "if age >= 18 and has_ticket == \"yes\":\n",
    "    print(\"Welcome to the concert.\")\n",
    "else:\n",
    "    print(\"Entry denied.\")\n",
    "</pre>"
   ]
  },
  {
   "cell_type": "code",
   "execution_count": 7,
   "id": "728dc4d3-95d5-4898-99e0-84c3014f3671",
   "metadata": {},
   "outputs": [
    {
     "name": "stdin",
     "output_type": "stream",
     "text": [
      "Enter your age:  19\n",
      "Do you have a ticket? (yes/no):  no\n"
     ]
    },
    {
     "name": "stdout",
     "output_type": "stream",
     "text": [
      "Entry denied.\n"
     ]
    }
   ],
   "source": [
    "age = int(input(\"Enter your age: \"))\n",
    "has_ticket = input(\"Do you have a ticket? (yes/no): \")\n",
    "\n",
    "if age >= 18 and has_ticket == \"yes\":\n",
    "    print(\"Welcome to the concert.\")\n",
    "else:\n",
    "    print(\"Entry denied.\")"
   ]
  },
  {
   "cell_type": "markdown",
   "id": "6a2029e6-5a0b-4e0d-bcb0-d995a92d4974",
   "metadata": {},
   "source": [
    "<p style=\"font-family: B Nazanin, sans-serif; font-size: 20px; direction: rtl; text-align: right;\">\n",
    "<strong>عملگر منطقی <code>not</code>:</strong>\n",
    "<br>\n",
    "این عملگر، نتیجه‌ی شرط را برعکس می‌کند.\n",
    "</p>\n",
    "\n",
    "<pre style=\"background-color: #f8f8f8; padding: 10px; font-family: Consolas, monospace;\">\n",
    "logged_in = False\n",
    "\n",
    "if not logged_in:\n",
    "    print(\"Please log in first.\")\n",
    "else:\n",
    "    print(\"Welcome back!\")\n",
    "</pre>"
   ]
  },
  {
   "cell_type": "code",
   "execution_count": 9,
   "id": "506cdf6f-bc60-441f-9a75-26c711f54002",
   "metadata": {},
   "outputs": [
    {
     "name": "stdout",
     "output_type": "stream",
     "text": [
      "Please log in first.\n"
     ]
    }
   ],
   "source": [
    "logged_in = False\n",
    "\n",
    "if not logged_in:\n",
    "    print(\"Please log in first.\")\n",
    "else:\n",
    "    print(\"Welcome back!\")"
   ]
  },
  {
   "cell_type": "markdown",
   "id": "7539b926-35f1-429c-b4b4-355074ed58dc",
   "metadata": {},
   "source": [
    "<p style=\"font-family: B Nazanin, sans-serif; font-size: 20px; direction: rtl; text-align: right;\">\n",
    "<strong>مثال کاربردی: سیستم احراز هویت چندمرحله‌ای</strong><br>\n",
    "در این مثال، چندین شرط با هم ترکیب شده‌اند تا اعتبارسنجی کامل‌تری صورت گیرد.\n",
    "</p>\n",
    "\n",
    "<pre style=\"background-color: #f8f8f8; padding: 10px; font-family: Consolas, monospace;\">\n",
    "username = input(\"Username: \")\n",
    "password = input(\"Password: \")\n",
    "captcha = input(\"Enter the code 'X123': \")\n",
    "\n",
    "if username == \"user\" and password == \"pass\":\n",
    "    if captcha == \"X123\":\n",
    "        print(\"Access granted.\")\n",
    "    else:\n",
    "        print(\"Invalid captcha.\")\n",
    "else:\n",
    "    print(\"Invalid credentials.\")\n",
    "</pre>"
   ]
  },
  {
   "cell_type": "code",
   "execution_count": 10,
   "id": "06316f5a-5fd8-4a80-a68d-5ba1bd096d9b",
   "metadata": {},
   "outputs": [
    {
     "name": "stdin",
     "output_type": "stream",
     "text": [
      "Username:  user\n",
      "Password:  pass\n",
      "Enter the code 'X123':  X123\n"
     ]
    },
    {
     "name": "stdout",
     "output_type": "stream",
     "text": [
      "Access granted.\n"
     ]
    }
   ],
   "source": [
    "username = input(\"Username: \")\n",
    "password = input(\"Password: \")\n",
    "captcha = input(\"Enter the code 'X123': \")\n",
    "\n",
    "if username == \"user\" and password == \"pass\":\n",
    "    if captcha == \"X123\":\n",
    "        print(\"Access granted.\")\n",
    "    else:\n",
    "        print(\"Invalid captcha.\")\n",
    "else:\n",
    "    print(\"Invalid credentials.\")"
   ]
  },
  {
   "cell_type": "markdown",
   "id": "9035b18c-60e1-4f41-864b-2a95fb39e699",
   "metadata": {},
   "source": [
    "<p style=\"font-family: B Nazanin, sans-serif; font-size: 20px; direction: rtl; text-align: right;\">\n",
    "<strong>استفاده از in / not in:</strong>\n",
    "<br>\n",
    "این دستورها بررسی می‌کنند که آیا یک مقدار در یک لیست، رشته، یا مجموعه وجود دارد یا نه.\n",
    "</p>\n",
    "\n",
    "<pre style=\"background-color: #f8f8f8; padding: 10px; font-family: Consolas, monospace;\">\n",
    "banned_users = [\"ali\", \"zahra\", \"mohammad\"]\n",
    "username = input(\"Enter your username: \")\n",
    "\n",
    "#username.lower() -> lower is used when you want to make every charachter lowercase\n",
    "    \n",
    "if username.lower() in banned_users:\n",
    "    print(\"You are banned from this service.\")\n",
    "else:\n",
    "    print(f'Welcome {username.lower()}!')\n",
    "</pre>"
   ]
  },
  {
   "cell_type": "code",
   "execution_count": 14,
   "id": "395e6417-e321-41df-a5be-9dab68886a58",
   "metadata": {},
   "outputs": [
    {
     "name": "stdin",
     "output_type": "stream",
     "text": [
      "Enter your username:  RAniA\n"
     ]
    },
    {
     "name": "stdout",
     "output_type": "stream",
     "text": [
      "Welcome rania!\n"
     ]
    }
   ],
   "source": [
    "banned_users = [\"ali\", \"zahra\", \"mohammad\"]\n",
    "username = input(\"Enter your username: \")\n",
    "\n",
    "#username.lower() -> lower is used when you want to make every charachter lowercase\n",
    "    \n",
    "if username.lower() in banned_users:\n",
    "    print(\"You are banned from this service.\")\n",
    "else:\n",
    "    print(f'Welcome {username.lower()}!')"
   ]
  },
  {
   "cell_type": "markdown",
   "id": "c5abe4a3-e02a-4f79-b86b-137b5cfc7f2f",
   "metadata": {},
   "source": [
    "<p style=\"font-family: B Nazanin, sans-serif; font-size: 20px; direction: rtl; text-align: right;\">\n",
    "<strong>ساختار match-case (مشابه switch در سایر زبان‌ها):</strong>\n",
    "<br>\n",
    "در پایتون 3.10 به بعد می‌توان به‌جای زنجیره‌ای از if/elif از match استفاده کرد. این روش تمیزتر و خواناتر است.\n",
    "</p>\n",
    "\n",
    "<pre style=\"background-color: #f8f8f8; padding: 10px; font-family: Consolas, monospace;\">\n",
    "language = input(\"Choose a language (Python / Java / C++): \")\n",
    "\n",
    "match language.lower():\n",
    "    case \"python\":\n",
    "        print(\"Great choice for beginners and data science!\")\n",
    "    case \"java\":\n",
    "        print(\"Good for OOP and enterprise applications.\")\n",
    "    case \"c++\":\n",
    "        print(\"Powerful language with complex syntax.\")\n",
    "    case _:\n",
    "        print(\"Unknown language.\")\n",
    "</pre>"
   ]
  },
  {
   "cell_type": "code",
   "execution_count": 15,
   "id": "b3c4b839-d588-40e9-85ad-535ce4479d0e",
   "metadata": {},
   "outputs": [
    {
     "name": "stdin",
     "output_type": "stream",
     "text": [
      "Choose a language (Python / Java / C++):  Python\n"
     ]
    },
    {
     "name": "stdout",
     "output_type": "stream",
     "text": [
      "Great choice for beginners and data science!\n"
     ]
    }
   ],
   "source": [
    "language = input(\"Choose a language (Python / Java / C++): \")\n",
    "\n",
    "match language.lower():\n",
    "    case \"python\":\n",
    "        print(\"Great choice for beginners and data science!\")\n",
    "    case \"java\":\n",
    "        print(\"Good for OOP and enterprise applications.\")\n",
    "    case \"c++\":\n",
    "        print(\"Powerful language with complex syntax.\")\n",
    "    case _:\n",
    "        print(\"Unknown language.\")"
   ]
  },
  {
   "cell_type": "markdown",
   "id": "f3d4869a-2bd1-459d-a5bd-c4d4e1b28bf0",
   "metadata": {},
   "source": [
    "<p style=\"font-family: B Nazanin, sans-serif; font-size: 20px; direction: rtl; text-align: right;\">\n",
    "<strong>تمرین:</strong>\n",
    "<br>\n",
    "برنامه‌ای بنویسید که نام، معدل و رشته‌ی کاربر را دریافت کرده، بررسی کند که آیا شرایط دریافت بورس تحصیلی را دارد یا نه.\n",
    "<br>\n",
    "شرایط: معدل بالای 17 و رشته \"computer\" یا \"math\"\n",
    "</p>\n",
    "\n",
    "<pre style=\"background-color: #f8f8f8; padding: 10px; font-family: Consolas, monospace;\">\n",
    "name = input(\"Name: \")\n",
    "major = input(\"Major: \").lower()\n",
    "gpa = float(input(\"GPA: \"))\n",
    "\n",
    "if gpa >= 17 and (major == \"computer\" or major == \"math\"):\n",
    "    print(f\"{name:<15} | {major:^10} | {gpa:.2f} --> Scholarship granted.\")\n",
    "else:\n",
    "    print(f\"{name:<15} | {major:^10} | {gpa:.2f} --> Not eligible.\")\n",
    "</pre>"
   ]
  },
  {
   "cell_type": "code",
   "execution_count": 17,
   "id": "74cdcbe1-1846-4f12-82d8-7d445068e1f5",
   "metadata": {},
   "outputs": [
    {
     "name": "stdin",
     "output_type": "stream",
     "text": [
      "Name:  Rania\n",
      "Major:  Math\n",
      "GPA:  17\n"
     ]
    },
    {
     "name": "stdout",
     "output_type": "stream",
     "text": [
      "Rania           |    math    | 17.00 --> Scholarship granted.\n"
     ]
    }
   ],
   "source": [
    "name = input(\"Name: \")\n",
    "major = input(\"Major: \").lower()\n",
    "gpa = float(input(\"GPA: \"))\n",
    "\n",
    "if gpa >= 17 and (major == \"computer\" or major == \"math\"):\n",
    "    print(f\"{name:<15} | {major:^10} | {gpa:.2f} --> Scholarship granted.\")\n",
    "else:\n",
    "    print(f\"{name:<15} | {major:^10} | {gpa:.2f} --> Not eligible.\")"
   ]
  },
  {
   "cell_type": "code",
   "execution_count": null,
   "id": "f43ae4b0-75fb-4791-8a7c-7d8cdb2da5c5",
   "metadata": {},
   "outputs": [],
   "source": []
  }
 ],
 "metadata": {
  "kernelspec": {
   "display_name": "Python 3 (ipykernel)",
   "language": "python",
   "name": "python3"
  },
  "language_info": {
   "codemirror_mode": {
    "name": "ipython",
    "version": 3
   },
   "file_extension": ".py",
   "mimetype": "text/x-python",
   "name": "python",
   "nbconvert_exporter": "python",
   "pygments_lexer": "ipython3",
   "version": "3.13.2"
  }
 },
 "nbformat": 4,
 "nbformat_minor": 5
}
