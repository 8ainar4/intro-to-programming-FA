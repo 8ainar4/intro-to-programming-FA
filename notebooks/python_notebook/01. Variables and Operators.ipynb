{
 "cells": [
  {
   "cell_type": "markdown",
   "id": "3e9a6b48",
   "metadata": {},
   "source": [
    "\n",
    "<div style=\"font-family: 'B Nazanin', sans-serif; direction: rtl; text-align: center; margin-top: 30px;\">\n",
    "    <h2 style=\"font-family: 'Arial', sans-serif; direction: ltr; font-size: 26px; text-align: center; margin-bottom: 10px;\">Introduction to Programming</h2>\n",
    "    <p style=\"font-family: 'Arial', sans-serif; font-size: 20px; direction: ltr; margin: 0; text-align: center;\">Rania Baghernejad</p>\n",
    "    <p style=\"font-family: 'Arial', sans-serif; font-size: 18px; direction: ltr; margin: 0; text-align: center;\">Python - Chapter 1</p>\n",
    "    <p style=\"font-size: 20px; margin-top: 10px; text-align: center;\">متغیرها و عملگرها (Variables and Operators)</p>\n",
    "</div>\n",
    "\n"
   ]
  },
  {
   "cell_type": "markdown",
   "id": "b045210c",
   "metadata": {},
   "source": [
    "<div style=\"font-family: B Nazanin, sans-serif; direction: rtl; text-align: right;\">\n",
    "    <h2><b>بخش ۱: تعریف متغیر و قواعد نام‌گذاری</b></h2>\n",
    "    <p style=\"font-size: 18px; direction: rtl; text-align: right;\">\n",
    "    در برنامه‌نویسی، متغیر‌ها برای ذخیره‌سازی مقادیر استفاده می‌شوند. هر متغیر یک نام دارد و مقداری را در خود نگه می‌دارد.\n",
    "    در پایتون نیازی به تعیین نوع متغیر نیست؛ زیرا نوع داده به صورت خودکار بر اساس مقدار مشخص می‌شود.\n",
    "    </p>\n",
    "</div>"
   ]
  },
  {
   "cell_type": "code",
   "execution_count": 26,
   "id": "e2ac0f0c",
   "metadata": {},
   "outputs": [],
   "source": [
    "x = 10\n",
    "name = \"Ali\"\n",
    "is_student = True"
   ]
  },
  {
   "cell_type": "markdown",
   "id": "d3e13125",
   "metadata": {},
   "source": [
    "<p style=\"font-family: B Nazanin, sans-serif; font-size: 18px; direction: rtl; text-align: right;\">\n",
    "<strong>قواعد نام‌گذاری متغیرها در پایتون:</strong><br>\n",
    "<ul>\n",
    "<li style=\"font-family: B Nazanin, sans-serif; font-size: 18px; direction: rtl; text-align: right;\"> نام می‌تواند شامل حروف، اعداد و زیرخط باشد (a-z, A-Z, 0-9, _).</li>\n",
    "<li style=\"font-family: B Nazanin, sans-serif; font-size: 18px; direction: rtl; text-align: right;\">نام متغیر نباید با عدد شروع شود.</li>\n",
    "<li style=\"font-family: B Nazanin, sans-serif; font-size: 18px; direction: rtl; text-align: right;\">نباید از کلمات رزرو شده پایتون (مثل <code>if</code>, <code>class</code>, <code>for</code>) به عنوان نام متغیر استفاده کرد.</li>\n",
    "<li style=\"font-family: B Nazanin, sans-serif; font-size: 18px; direction: rtl; text-align: right;\">نام متغیرها به بزرگی و کوچکی حروف حساس هستند (<code>name</code> با <code>Name</code> متفاوت است).</li>\n",
    "</ul>\n",
    "</p>"
   ]
  },
  {
   "cell_type": "markdown",
   "id": "5aac8280-a4e8-45be-88c7-4194c19eb6ef",
   "metadata": {},
   "source": [
    "<p style=\"font-family: B Nazanin, sans-serif; font-size: 18px; direction: rtl; text-align: right;\">\n",
    "<strong>مثال‌هایی از نام‌گذاری:</strong>\n",
    "</p>"
   ]
  },
  {
   "cell_type": "code",
   "execution_count": 27,
   "id": "5416a0c1",
   "metadata": {},
   "outputs": [
    {
     "name": "stdout",
     "output_type": "stream",
     "text": [
      "user_name = Sara\n",
      "_age = 22\n",
      "x1 = 5\n"
     ]
    }
   ],
   "source": [
    "user_name = \"Sara\"\n",
    "_age = 22\n",
    "x1 = 5\n",
    "\n",
    "print(\"user_name =\", user_name)\n",
    "print(\"_age =\", _age)\n",
    "print(\"x1 =\", x1)"
   ]
  },
  {
   "cell_type": "markdown",
   "id": "4bfb24bf-ff58-4891-a7e2-fb29d71ce066",
   "metadata": {},
   "source": [
    "<p style=\"font-family: B Nazanin, sans-serif; font-size: 18px; direction: rtl; text-align: right;\">\n",
    "<strong>مثال‌هایی از نام‌گذاری نادرست (در صورت اجرا باعث خطا می‌شوند):</strong>\n",
    "</p>\n",
    "<pre style=\"background-color: #f0f0f0; padding: 10px; font-family: Consolas, monospace;\">\n",
    "1name = \"Ali\"      # شروع با عدد\n",
    "for = 5            # استفاده از کلمه رزرو شده\n",
    "user-name = \"Reza\" # استفاده از علامت \"-\" غیرمجاز \n",
    "</pre>"
   ]
  },
  {
   "cell_type": "code",
   "execution_count": 28,
   "id": "3e152ea9-6ebb-4a13-a69e-9388568c7960",
   "metadata": {},
   "outputs": [
    {
     "name": "stdout",
     "output_type": "stream",
     "text": [
      "کلمات رزرو شده پایتون:\n",
      "['False', 'None', 'True', 'and', 'as', 'assert', 'async', 'await', 'break', 'class', 'continue', 'def', 'del', 'elif', 'else', 'except', 'finally', 'for', 'from', 'global', 'if', 'import', 'in', 'is', 'lambda', 'nonlocal', 'not', 'or', 'pass', 'raise', 'return', 'try', 'while', 'with', 'yield']\n"
     ]
    }
   ],
   "source": [
    "# نمایش کلمات رزرو شده پایتون\n",
    "import keyword\n",
    "print(\"کلمات رزرو شده پایتون:\")\n",
    "print(keyword.kwlist)\n"
   ]
  },
  {
   "cell_type": "markdown",
   "id": "e78fd02a-198d-45ee-b91d-53ab83705553",
   "metadata": {},
   "source": [
    "<div style=\"font-family: B Nazanin, sans-serif; direction: rtl; text-align: right;\">\n",
    "<h2><b>بخش ۲: انواع داده‌ها (Data Types)</b></h2>\n",
    "<p style=\"font-size: 18px; direction: rtl; text-align: right;\">\n",
    "در پایتون، متغیرها می‌توانند مقادیر مختلفی از انواع داده‌ای داشته باشند. هر مقدار دارای یک نوع است که می‌توان با تابع <code>()type</code> آن را مشخص کرد. در ادامه با رایج‌ترین انواع داده‌ها آشنا می‌شویم:\n",
    "</p>\n",
    "</div>"
   ]
  },
  {
   "cell_type": "code",
   "execution_count": 29,
   "id": "05ba4e53-dca4-401a-bcfe-73d91bfcd63a",
   "metadata": {},
   "outputs": [
    {
     "name": "stdout",
     "output_type": "stream",
     "text": [
      "x = 10 type: <class 'int'>\n"
     ]
    }
   ],
   "source": [
    "# عدد صحیح (int)\n",
    "x = 10\n",
    "print(\"x =\", x, \"type:\", type(x))"
   ]
  },
  {
   "cell_type": "code",
   "execution_count": 30,
   "id": "0bfbfaad-f320-4c04-996e-603e08709c83",
   "metadata": {},
   "outputs": [
    {
     "name": "stdout",
     "output_type": "stream",
     "text": [
      "y = 3.14 type: <class 'float'>\n"
     ]
    }
   ],
   "source": [
    "# عدد اعشاری (float)\n",
    "y = 3.14\n",
    "print(\"y =\", y, \"type:\", type(y))"
   ]
  },
  {
   "cell_type": "code",
   "execution_count": 31,
   "id": "9896fec6-1d87-4e4f-835b-0c2e93bc7deb",
   "metadata": {},
   "outputs": [
    {
     "name": "stdout",
     "output_type": "stream",
     "text": [
      "name = Rania type: <class 'str'>\n"
     ]
    }
   ],
   "source": [
    "# رشته‌ای (str)\n",
    "name = \"Rania\"\n",
    "print(\"name =\", name, \"type:\", type(name))"
   ]
  },
  {
   "cell_type": "code",
   "execution_count": 32,
   "id": "f713b416-16d0-42c4-aded-ff6a9a6381a3",
   "metadata": {},
   "outputs": [
    {
     "name": "stdout",
     "output_type": "stream",
     "text": [
      "is_active = True type: <class 'bool'>\n"
     ]
    }
   ],
   "source": [
    "# بولی (bool)\n",
    "is_active = True\n",
    "print(\"is_active =\", is_active, \"type:\", type(is_active))"
   ]
  },
  {
   "cell_type": "code",
   "execution_count": 33,
   "id": "ce5acaff-7383-41c0-a0c1-56eaa229b4af",
   "metadata": {},
   "outputs": [
    {
     "name": "stdout",
     "output_type": "stream",
     "text": [
      "numbers = [1, 2, 3] type: <class 'list'>\n"
     ]
    }
   ],
   "source": [
    "# لیست (list)\n",
    "numbers = [1, 2, 3]\n",
    "print(\"numbers =\", numbers, \"type:\", type(numbers))"
   ]
  },
  {
   "cell_type": "code",
   "execution_count": 34,
   "id": "2bac78a3-33e6-4850-99c5-2b3bb96d2221",
   "metadata": {},
   "outputs": [
    {
     "name": "stdout",
     "output_type": "stream",
     "text": [
      "person = ('Ali', 21) type: <class 'tuple'>\n"
     ]
    }
   ],
   "source": [
    "# تاپل (tuple)\n",
    "person = (\"Ali\", 21)\n",
    "print(\"person =\", person, \"type:\", type(person))"
   ]
  },
  {
   "cell_type": "code",
   "execution_count": 35,
   "id": "ad140058-1ff9-47d3-b4a7-b7594ba97c7b",
   "metadata": {},
   "outputs": [
    {
     "name": "stdout",
     "output_type": "stream",
     "text": [
      "student = {'name': 'Sara', 'age': 20} type: <class 'dict'>\n"
     ]
    }
   ],
   "source": [
    "# دیکشنری (dict)\n",
    "student = {\"name\": \"Sara\", \"age\": 20}\n",
    "print(\"student =\", student, \"type:\", type(student))"
   ]
  },
  {
   "cell_type": "code",
   "execution_count": 36,
   "id": "ca8f3daf-a730-45d4-9e56-bd6f9e74a946",
   "metadata": {},
   "outputs": [
    {
     "name": "stdout",
     "output_type": "stream",
     "text": [
      "unique_nums = {1, 2, 3} type: <class 'set'>\n"
     ]
    }
   ],
   "source": [
    "# مجموعه (set)\n",
    "unique_nums = {1, 2, 3}\n",
    "print(\"unique_nums =\", unique_nums, \"type:\", type(unique_nums))"
   ]
  },
  {
   "cell_type": "code",
   "execution_count": null,
   "id": "7f0ca97f-d8db-4be1-b874-247c33cd0eff",
   "metadata": {},
   "outputs": [],
   "source": []
  },
  {
   "cell_type": "markdown",
   "id": "bd745bde-3be6-40ad-abe9-f262e8f4a3e0",
   "metadata": {},
   "source": [
    "<p style=\"font-family: B Nazanin, sans-serif; font-size: 18px; direction: rtl; text-align: right;\">\n",
    "همان‌طور که دیدیم، می‌توان با استفاده از تابع <code>()type</code> نوع هر متغیر را به‌دست آورد. شناخت دقیق انواع داده‌ها برای درک رفتار متغیرها و عملیات بر روی آن‌ها بسیار مهم است.\n",
    "</p>"
   ]
  },
  {
   "cell_type": "markdown",
   "id": "46b44ed3-5dd5-4d4a-b55f-0432841d85a9",
   "metadata": {},
   "source": [
    "<div style=\"font-family: B Nazanin, sans-serif; direction: rtl; text-align: right;\">\n",
    "<h2><b>بخش ۳: تبدیل نوع داده‌ها (Type Casting)</b></h2>\n",
    "<p style=\"font-size: 18px; irection: rtl; text-align: right;\">\n",
    "گاهی نیاز داریم نوع یک داده را به نوع دیگری تبدیل کنیم. پایتون این کار را با استفاده از توابع تبدیل نوع انجام می‌دهد.\n",
    "</p>\n",
    "</div>"
   ]
  },
  {
   "cell_type": "code",
   "execution_count": 37,
   "id": "f7f4abeb-7bcc-4c2f-9d47-603dc618159b",
   "metadata": {},
   "outputs": [
    {
     "name": "stdout",
     "output_type": "stream",
     "text": [
      "actual num:  3.7 | after casting: 3\n"
     ]
    }
   ],
   "source": [
    "# عدد اعشاری به عدد صحیح\n",
    "a = 3.7\n",
    "a_int = int(a)\n",
    "print(\"actual num: \", a, \"| after casting:\", a_int)"
   ]
  },
  {
   "cell_type": "code",
   "execution_count": 38,
   "id": "4ac5229f-b9b1-4caa-8878-79ec0845eaf9",
   "metadata": {},
   "outputs": [
    {
     "name": "stdout",
     "output_type": "stream",
     "text": [
      "actual num:  42 | after casting: 42 | type: <class 'str'>\n"
     ]
    }
   ],
   "source": [
    "# عدد صحیح به رشته\n",
    "num = 42\n",
    "num_str = str(num)\n",
    "print(\"actual num: \", num, \"| after casting:\", num_str, \"| type:\", type(num_str))"
   ]
  },
  {
   "cell_type": "code",
   "execution_count": 39,
   "id": "27b7a28a-0be1-4f1e-b443-46eb7f48a196",
   "metadata": {},
   "outputs": [
    {
     "name": "stdout",
     "output_type": "stream",
     "text": [
      "actual text:  123 | after casting: 123 | type: <class 'int'>\n"
     ]
    }
   ],
   "source": [
    "# رشته به عدد صحیح\n",
    "text = \"123\"\n",
    "text_int = int(text)\n",
    "print(\"actual text: \", text, \"| after casting:\", text_int, \"| type:\", type(text_int))"
   ]
  },
  {
   "cell_type": "markdown",
   "id": "2548bbb8-97d2-4748-b2de-e7b562f81585",
   "metadata": {},
   "source": [
    "<p style=\"font-family: B Nazanin, sans-serif; font-size: 18px; direction: rtl; text-align: right;\">\n",
    "<strong>نکته:</strong> اگر رشته‌ای شامل عدد نباشد (مثلاً \"abc\")، تبدیل آن به عدد باعث خطا می‌شود.\n",
    "</p>\n",
    "<pre style=\"background-color: #f8f8f8; font-family: Consolas, monospace; padding: 10px;\">\n",
    "int(\"abc\")  # ValueError\n",
    "</pre>"
   ]
  },
  {
   "cell_type": "code",
   "execution_count": 40,
   "id": "1d4a2b1e-d1bd-4b85-b29e-b4a5ef2ec5b2",
   "metadata": {},
   "outputs": [
    {
     "name": "stdout",
     "output_type": "stream",
     "text": [
      "False\n",
      "True\n",
      "False\n",
      "True\n",
      "False\n",
      "True\n"
     ]
    }
   ],
   "source": [
    "# casting to boolean\n",
    "print(bool(0))        # False\n",
    "print(bool(1))        # True\n",
    "print(bool(\"\"))       # False\n",
    "print(bool(\"hello\"))  # True\n",
    "print(bool([]))       # False\n",
    "print(bool([1, 2]))   # True"
   ]
  },
  {
   "cell_type": "markdown",
   "id": "fd8e5e1f-9237-46c5-91c0-a4f40a1a2a55",
   "metadata": {},
   "source": [
    "<p style=\"font-family: B Nazanin, sans-serif; font-size: 18px; direction: rtl; text-align: right;\">\n",
    "در پایتون مقدارهایی مانند عدد صفر، رشته خالی، لیست خالی و None در تبدیل به نوع بولی <code>False</code> هستند. بقیه مقادیر <code>True</code> محسوب می‌شوند.\n",
    "</p>"
   ]
  },
  {
   "cell_type": "markdown",
   "id": "378e70d9-c6ab-4798-a55a-dc9c6b315001",
   "metadata": {},
   "source": [
    "<div style=\"font-family: B Nazanin, sans-serif; direction: rtl; text-align: right;\">\n",
    "<h2><b>بخش ۴: عملگرها (Operators)</b></h2>\n",
    "<p style=\"font-size: 18px; direction: rtl; text-align: right;\">\n",
    "در پایتون، عملگرها برای انجام عملیات بر روی متغیرها و مقادیر استفاده می‌شوند. در این بخش، با مهم‌ترین انواع عملگرها آشنا می‌شویم.\n",
    "</p>\n",
    "</div>"
   ]
  },
  {
   "cell_type": "markdown",
   "id": "6e7a7dc2-92ea-4f6b-b24f-eabea1a42642",
   "metadata": {},
   "source": [
    "<p style=\"font-family: B Nazanin, sans-serif; font-size: 18px; direction: rtl; text-align: right;\">\n",
    "<strong>۱. عملگرهای حسابی:</strong> برای عملیات ریاضی استفاده می‌شوند.\n",
    "</p>\n",
    "<pre style=\"background-color: #f8f8f8; font-family: Consolas, monospace; padding: 10px;\">\n",
    "a = 10\n",
    "b = 3\n",
    "print(a + b)   # جمع\n",
    "print(a - b)   # تفریق\n",
    "print(a * b)   # ضرب\n",
    "print(a / b)   # تقسیم اعشاری\n",
    "print(a // b)  # تقسیم صحیح\n",
    "print(a % b)   # باقیمانده\n",
    "print(a ** b)  # توان\n",
    "</pre>"
   ]
  },
  {
   "cell_type": "code",
   "execution_count": 41,
   "id": "0390ee69",
   "metadata": {},
   "outputs": [
    {
     "name": "stdout",
     "output_type": "stream",
     "text": [
      "13\n"
     ]
    }
   ],
   "source": [
    "a = 10\n",
    "b = 3\n",
    "\n",
    "print(a + b)"
   ]
  },
  {
   "cell_type": "code",
   "execution_count": 42,
   "id": "ff4fbdc1-79bb-4f82-a2c5-fa67033d53cf",
   "metadata": {},
   "outputs": [
    {
     "name": "stdout",
     "output_type": "stream",
     "text": [
      "7\n"
     ]
    }
   ],
   "source": [
    "print(a - b) "
   ]
  },
  {
   "cell_type": "code",
   "execution_count": 43,
   "id": "a6e6e7c0-59b6-4b3d-87a2-8971cd585def",
   "metadata": {},
   "outputs": [
    {
     "name": "stdout",
     "output_type": "stream",
     "text": [
      "30\n"
     ]
    }
   ],
   "source": [
    "print(a * b) "
   ]
  },
  {
   "cell_type": "code",
   "execution_count": 44,
   "id": "7cdca956-cc0f-44ef-9ee6-5941adf4f3b9",
   "metadata": {},
   "outputs": [
    {
     "name": "stdout",
     "output_type": "stream",
     "text": [
      "3.3333333333333335\n"
     ]
    }
   ],
   "source": [
    "print(a / b) "
   ]
  },
  {
   "cell_type": "code",
   "execution_count": 45,
   "id": "a0d26890-edb1-4783-8c3d-dd79fa42fd27",
   "metadata": {},
   "outputs": [
    {
     "name": "stdout",
     "output_type": "stream",
     "text": [
      "3\n"
     ]
    }
   ],
   "source": [
    "print(a // b) "
   ]
  },
  {
   "cell_type": "code",
   "execution_count": 46,
   "id": "a1debe5e-5f66-4667-9fc4-1f4bb55247a6",
   "metadata": {},
   "outputs": [
    {
     "name": "stdout",
     "output_type": "stream",
     "text": [
      "1\n"
     ]
    }
   ],
   "source": [
    "print(a % b)"
   ]
  },
  {
   "cell_type": "code",
   "execution_count": 47,
   "id": "4cb8c20b-aebf-4ff4-bff0-8da2f4521172",
   "metadata": {},
   "outputs": [
    {
     "name": "stdout",
     "output_type": "stream",
     "text": [
      "1000\n"
     ]
    }
   ],
   "source": [
    "print(a ** b)"
   ]
  },
  {
   "cell_type": "markdown",
   "id": "4276564b-7971-4a9b-918c-feab12bfef32",
   "metadata": {},
   "source": [
    "<p style=\"font-family: B Nazanin, sans-serif; font-size: 18px; direction: rtl; text-align: right;\">\n",
    "<strong>۲. عملگرهای انتساب:</strong> برای اختصاص مقدار به متغیرها استفاده می‌شوند.\n",
    "</p>\n",
    "<pre style=\"background-color: #f8f8f8; font-family: Consolas, monospace; padding: 10px;\">\n",
    "x = 5\n",
    "x += 2  # x = x + 2\n",
    "x -= 1  # x = x - 1\n",
    "x *= 3  # x = x * 3\n",
    "x /= 2  # x = x / 2\n",
    "</pre>"
   ]
  },
  {
   "cell_type": "markdown",
   "id": "83a7d4d3-2089-4cb7-826e-088d35c478ab",
   "metadata": {},
   "source": [
    "<p style=\"font-family: B Nazanin, sans-serif; font-size: 18px; direction: rtl; text-align: right;\">\n",
    "<strong>۳. عملگرهای مقایسه‌ای:</strong> برای مقایسه مقدارها استفاده می‌شوند و نتیجه‌ی آن‌ها یک مقدار بولی است.\n",
    "</p>\n",
    "<pre style=\"background-color: #f8f8f8; font-family: Consolas, monospace; padding: 10px;\">\n",
    "a = 5\n",
    "b = 3\n",
    "print(a == b)   # مساوی بودن\n",
    "print(a != b)   # نابرابر بودن\n",
    "print(a > b)    # بزرگ‌تر بودن\n",
    "print(a < b)    # کوچک‌تر بودن\n",
    "print(a >= b)   # بزرگ‌تر یا مساوی\n",
    "print(a <= b)   # کوچک‌تر یا مساوی\n",
    "</pre>"
   ]
  },
  {
   "cell_type": "code",
   "execution_count": 48,
   "id": "330142a5-a1fd-4f10-9f86-a314167e91e8",
   "metadata": {},
   "outputs": [
    {
     "name": "stdout",
     "output_type": "stream",
     "text": [
      "False\n"
     ]
    }
   ],
   "source": [
    "a = 5\n",
    "b = 3\n",
    "print(a == b)"
   ]
  },
  {
   "cell_type": "code",
   "execution_count": 49,
   "id": "f376b3d7-a0e4-4167-94e8-2d28f7278370",
   "metadata": {},
   "outputs": [
    {
     "name": "stdout",
     "output_type": "stream",
     "text": [
      "True\n"
     ]
    }
   ],
   "source": [
    "print(a != b)"
   ]
  },
  {
   "cell_type": "code",
   "execution_count": 50,
   "id": "887a97b7-f4c9-4147-84e3-682106e4ca45",
   "metadata": {},
   "outputs": [
    {
     "name": "stdout",
     "output_type": "stream",
     "text": [
      "True\n"
     ]
    }
   ],
   "source": [
    "print(a > b)"
   ]
  },
  {
   "cell_type": "code",
   "execution_count": 51,
   "id": "8d9dff56-4a6e-4e89-9069-fa3099810c82",
   "metadata": {},
   "outputs": [
    {
     "name": "stdout",
     "output_type": "stream",
     "text": [
      "False\n"
     ]
    }
   ],
   "source": [
    "print(a < b)"
   ]
  },
  {
   "cell_type": "code",
   "execution_count": 52,
   "id": "bb0dd505-fd16-4e19-9c0b-b24f2332cdda",
   "metadata": {},
   "outputs": [
    {
     "name": "stdout",
     "output_type": "stream",
     "text": [
      "True\n"
     ]
    }
   ],
   "source": [
    "print(a >= b)"
   ]
  },
  {
   "cell_type": "code",
   "execution_count": 53,
   "id": "14ca04ce-3d00-4691-8bfa-e395de294da1",
   "metadata": {},
   "outputs": [
    {
     "name": "stdout",
     "output_type": "stream",
     "text": [
      "False\n"
     ]
    }
   ],
   "source": [
    "print(a <= b)"
   ]
  },
  {
   "cell_type": "markdown",
   "id": "b192b841-84e8-4ce5-9318-168040577eed",
   "metadata": {},
   "source": [
    "<p style=\"font-family: B Nazanin, sans-serif; font-size: 18px; direction: rtl; text-align: right;\">\n",
    "<strong>۴. عملگرهای منطقی:</strong> برای ترکیب شرط‌ها استفاده می‌شوند.\n",
    "</p>\n",
    "<pre style=\"background-color: #f8f8f8; font-family: Consolas, monospace; padding: 10px;\">\n",
    "x = 4\n",
    "print(x > 2 and x < 10)  # هر دو شرط باید برقرار باشند\n",
    "print(x > 5 or x < 10)   # حداقل یکی از شرط‌ها باید برقرار باشد\n",
    "print(not(x > 5))        # معکوس شرط\n",
    "</pre>"
   ]
  },
  {
   "cell_type": "code",
   "execution_count": 54,
   "id": "ca8c164e-d22e-42fd-9148-326b19277e64",
   "metadata": {},
   "outputs": [
    {
     "name": "stdout",
     "output_type": "stream",
     "text": [
      "True\n"
     ]
    }
   ],
   "source": [
    "x = 4\n",
    "print(x > 2 and x < 10)"
   ]
  },
  {
   "cell_type": "code",
   "execution_count": 55,
   "id": "7b6a1501-489c-4f05-a491-a3a90a01b5f7",
   "metadata": {},
   "outputs": [
    {
     "name": "stdout",
     "output_type": "stream",
     "text": [
      "True\n"
     ]
    }
   ],
   "source": [
    "print(x > 5 or x < 10)"
   ]
  },
  {
   "cell_type": "code",
   "execution_count": 56,
   "id": "625e45f4-7859-459e-ba6a-eab282da6682",
   "metadata": {},
   "outputs": [
    {
     "name": "stdout",
     "output_type": "stream",
     "text": [
      "True\n"
     ]
    }
   ],
   "source": [
    "print(not(x > 5))"
   ]
  },
  {
   "cell_type": "markdown",
   "id": "13759135-79e7-4ef8-b12e-aea6b9586917",
   "metadata": {},
   "source": [
    "<p style=\"font-family: B Nazanin, sans-serif; font-size: 18px; direction: rtl; text-align: right;\">\n",
    "<strong>۵. اولویت عملگرها:</strong> برخی عملگرها نسبت به بقیه اولویت اجرایی بالاتری دارند. مثلاً ضرب و تقسیم قبل از جمع و تفریق انجام می‌شوند. از پرانتز برای کنترل اولویت استفاده کنید.\n",
    "</p>\n",
    "<pre style=\"background-color: #f8f8f8; font-family: Consolas, monospace; padding: 10px;\">\n",
    "result = 3 + 4 * 2     # خروجی: 11\n",
    "result = (3 + 4) * 2   # خروجی: 14\n",
    "</pre>"
   ]
  },
  {
   "cell_type": "markdown",
   "id": "5dff6953-11a5-4004-a200-6c87ed74aad7",
   "metadata": {},
   "source": [
    "<p style=\"font-family: B Nazanin, sans-serif; font-size: 18px; direction: rtl; text-align: right;\">\n",
    "در این بخش، با انواع مختلف عملگرها و نحوه استفاده از آن‌ها آشنا شدیم. استفاده‌ی درست از این عملگرها در نوشتن شرط‌ها و محاسبات دقیق بسیار مهم است.\n",
    "</p>"
   ]
  }
 ],
 "metadata": {
  "kernelspec": {
   "display_name": "Python 3 (ipykernel)",
   "language": "python",
   "name": "python3"
  },
  "language_info": {
   "codemirror_mode": {
    "name": "ipython",
    "version": 3
   },
   "file_extension": ".py",
   "mimetype": "text/x-python",
   "name": "python",
   "nbconvert_exporter": "python",
   "pygments_lexer": "ipython3",
   "version": "3.13.2"
  }
 },
 "nbformat": 4,
 "nbformat_minor": 5
}
