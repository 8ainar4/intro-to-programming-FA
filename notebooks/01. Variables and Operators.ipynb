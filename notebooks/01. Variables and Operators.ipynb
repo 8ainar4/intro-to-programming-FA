{
 "cells": [
  {
   "cell_type": "markdown",
   "id": "3e9a6b48",
   "metadata": {},
   "source": [
    "# فصل دوم: مبانی پایتون"
   ]
  },
  {
   "cell_type": "markdown",
   "id": "b045210c",
   "metadata": {},
   "source": [
    "## تعریف متغیر (Variables)\n",
    "در پایتون، برای تعریف متغیر نیازی به مشخص کردن نوع آن نیست."
   ]
  },
  {
   "cell_type": "code",
   "execution_count": null,
   "id": "e2ac0f0c",
   "metadata": {},
   "outputs": [],
   "source": [
    "x = 10\n",
    "name = \"Ali\"\n",
    "is_student = True"
   ]
  },
  {
   "cell_type": "markdown",
   "id": "d3e13125",
   "metadata": {},
   "source": [
    "## انواع داده‌های پایه"
   ]
  },
  {
   "cell_type": "code",
   "execution_count": null,
   "id": "5416a0c1",
   "metadata": {},
   "outputs": [],
   "source": [
    "a = 5              # عدد صحیح (int)\n",
    "b = 3.14           # عدد اعشاری (float)\n",
    "name = \"Sara\"      # رشته (string)\n",
    "is_happy = False   # بولی (bool)\n",
    "my_list = [1, 2, 3, \"hello\"]      # لیست\n",
    "my_tuple = (1, 2, 3)              # تاپل\n",
    "my_dict = {\"name\": \"Ali\", \"age\": 21}  # دیکشنری\n",
    "my_set = {1, 2, 3, 3}             # مجموعه (set) - مقادیر تکراری حذف می‌شوند"
   ]
  },
  {
   "cell_type": "markdown",
   "id": "ab4b9e5f",
   "metadata": {},
   "source": [
    "## عملیات ریاضی"
   ]
  },
  {
   "cell_type": "code",
   "execution_count": null,
   "id": "0390ee69",
   "metadata": {},
   "outputs": [],
   "source": [
    "a = 10\n",
    "b = 3\n",
    "\n",
    "print(a + b)   # جمع\n",
    "print(a - b)   # تفریق\n",
    "print(a * b)   # ضرب\n",
    "print(a / b)   # تقسیم\n",
    "print(a // b)  # تقسیم صحیح\n",
    "print(a % b)   # باقیمانده\n",
    "print(a ** b)  # توان"
   ]
  },
  {
   "cell_type": "markdown",
   "id": "31154a52",
   "metadata": {},
   "source": [
    "## عملیات مقایسه‌ای"
   ]
  },
  {
   "cell_type": "code",
   "execution_count": null,
   "id": "c0865ceb",
   "metadata": {},
   "outputs": [],
   "source": [
    "x = 5\n",
    "print(x > 3)    # بزرگ‌تر\n",
    "print(x < 3)    # کوچک‌تر\n",
    "print(x == 5)   # مساوی\n",
    "print(x != 4)   # نابرابر\n",
    "print(x >= 5)   # بزرگ‌تر یا مساوی\n",
    "print(x <= 5)   # کوچک‌تر یا مساوی"
   ]
  },
  {
   "cell_type": "markdown",
   "id": "a77d81fc",
   "metadata": {},
   "source": [
    "## عملگرهای منطقی"
   ]
  },
  {
   "cell_type": "code",
   "execution_count": null,
   "id": "5f199f50",
   "metadata": {},
   "outputs": [],
   "source": [
    "x = 5\n",
    "print(x > 2 and x < 10)   # and: هر دو شرط باید درست باشد\n",
    "print(x > 6 and x < 10)\n",
    "\n",
    "print(x > 2 or x > 10)    # or: حداقل یکی از شرط‌ها باید درست باشد\n",
    "print(x < 2 or x > 10)\n",
    "\n",
    "print(not(x > 3))         # not: برعکس کردن نتیجه شرط"
   ]
  },
  {
   "cell_type": "markdown",
   "id": "e90ee771",
   "metadata": {},
   "source": [
    "## عملگرهای ترکیبی"
   ]
  },
  {
   "cell_type": "code",
   "execution_count": null,
   "id": "949f5967",
   "metadata": {},
   "outputs": [],
   "source": [
    "x = 5\n",
    "x += 3   # معادل x = x + 3\n",
    "x *= 2   # معادل x = x * 2\n",
    "print(x)"
   ]
  },
  {
   "cell_type": "markdown",
   "id": "8b438863",
   "metadata": {},
   "source": [
    "## ورودی از کاربر"
   ]
  },
  {
   "cell_type": "code",
   "execution_count": null,
   "id": "1d8fcc6a",
   "metadata": {},
   "outputs": [],
   "source": [
    "name = input(\"نام خود را وارد کنید: \")\n",
    "print(\"سلام\", name)"
   ]
  },
  {
   "cell_type": "markdown",
   "id": "f8ee483a",
   "metadata": {},
   "source": [
    "## تبدیل نوع داده‌ها"
   ]
  },
  {
   "cell_type": "code",
   "execution_count": null,
   "id": "b9c8946b",
   "metadata": {},
   "outputs": [],
   "source": [
    "x = \"5\"\n",
    "y = int(x)     # تبدیل رشته به عدد\n",
    "z = str(10)    # تبدیل عدد به رشته\n",
    "print(y + 2)\n",
    "print(z + \"0\")"
   ]
  }
 ],
 "metadata": {},
 "nbformat": 4,
 "nbformat_minor": 5
}
