{
 "cells": [
  {
   "cell_type": "markdown",
   "id": "3e9a6b48",
   "metadata": {},
   "source": [
    "\n",
    "<div style=\"font-family: 'B Nazanin', sans-serif; direction: rtl; text-align: center; margin-top: 30px;\">\n",
    "    <h2 style=\"font-family: 'Arial', sans-serif; direction: ltr; font-size: 26px; text-align: center; margin-bottom: 10px;\">Introduction to Programming</h2>\n",
    "    <p style=\"font-family: 'Arial', sans-serif; font-size: 20px; direction: ltr; margin: 0; text-align: center;\">Rania Baghernejad</p>\n",
    "    <p style=\"font-family: 'Arial', sans-serif; font-size: 18px; direction: ltr; margin: 0; text-align: center;\">Python - Chapter 1</p>\n",
    "    <p style=\"font-size: 20px; margin-top: 10px; text-align: center;\">متغیرها و عملگرها (Variables and Operators)</p>\n",
    "</div>\n",
    "\n"
   ]
  },
  {
   "cell_type": "markdown",
   "id": "b045210c",
   "metadata": {},
   "source": [
    "<p style=\"font-family: B Nazanin, sans-serif; font-size: 20px; direction: rtl; text-align: right;\">\n",
    " تعریف متغیر (Variables)<br>\n",
    "در پایتون برای تعریف متغیر نیازی به تعیین نوع نیست. پایتون به‌طور خودکار نوع متغیر را از مقدار آن تشخیص می‌دهد.\n",
    "</p>\n"
   ]
  },
  {
   "cell_type": "code",
   "execution_count": 28,
   "id": "e2ac0f0c",
   "metadata": {},
   "outputs": [],
   "source": [
    "x = 10\n",
    "name = \"Ali\"\n",
    "is_student = True"
   ]
  },
  {
   "cell_type": "markdown",
   "id": "d3e13125",
   "metadata": {},
   "source": [
    "<p style=\"font-family: B Nazanin, sans-serif; font-size: 20px; direction: rtl; text-align: right;\">\n",
    "انواع داده‌های پایه\n",
    "</p>\n"
   ]
  },
  {
   "cell_type": "code",
   "execution_count": 29,
   "id": "5416a0c1",
   "metadata": {},
   "outputs": [],
   "source": [
    "a = 5               # int\n",
    "b = 3.14            # float\n",
    "name = \"Sara\"       # str\n",
    "is_happy = False    # bool\n",
    "my_list = [1, 2, 3] # list\n",
    "my_tuple = (1, 2, 3)# tuple\n",
    "my_dict = {\"name\": \"Ali\", \"age\": 21}  # dict\n",
    "my_set = {1, 2, 3, 3}  # set → تکراری‌ها حذف می‌شوند\n"
   ]
  },
  {
   "cell_type": "markdown",
   "id": "46b44ed3-5dd5-4d4a-b55f-0432841d85a9",
   "metadata": {},
   "source": [
    "<p style=\"font-family: B Nazanin, sans-serif; font-size: 20px; direction: rtl; text-align: right;\">\n",
    "برای چاپ خروجی در پایتون از تابع print استفاده می‌کنیم. می‌توان متن ساده، متغیر، و ترکیب آن‌ها را چاپ کرد. همچنین سه روش اصلی برای قالب‌بندی وجود دارد: <br>\n",
    "۱. استفاده از +، <br>\n",
    "۲. متد format، <br>\n",
    "۳. f-string.<br>\n",
    "</p>\n"
   ]
  },
  {
   "cell_type": "code",
   "execution_count": 30,
   "id": "3482cb05-2398-410a-933d-a7bb0548ddc7",
   "metadata": {},
   "outputs": [
    {
     "name": "stdout",
     "output_type": "stream",
     "text": [
      "Name: Ali, Age: 20\n",
      "Name: Ali, Age: 20\n",
      "Name: Ali, Age: 20\n"
     ]
    }
   ],
   "source": [
    "name = \"Ali\"\n",
    "age = 20\n",
    "\n",
    "# 1:\n",
    "print(\"Name: \" + name + \", Age: \" + str(age))\n",
    "\n",
    "# 2:\n",
    "print(\"Name: {}, Age: {}\".format(name, age))\n",
    "\n",
    "# 3:\n",
    "print(f\"Name: {name}, Age: {age}\")\n"
   ]
  },
  {
   "cell_type": "markdown",
   "id": "378e70d9-c6ab-4798-a55a-dc9c6b315001",
   "metadata": {},
   "source": [
    "<p style=\"font-family: B Nazanin, sans-serif; font-size: 20px; direction: rtl; text-align: right;\">\n",
    "عملگرهای مقایسه‌ای برای مقایسه مقادیر استفاده می‌شوند و خروجی آن‌ها مقدار بولین (True یا False) است.\n",
    "</p>\n"
   ]
  },
  {
   "cell_type": "code",
   "execution_count": 31,
   "id": "0390ee69",
   "metadata": {},
   "outputs": [
    {
     "name": "stdout",
     "output_type": "stream",
     "text": [
      "13\n",
      "7\n",
      "30\n",
      "3.3333333333333335\n",
      "3\n",
      "1\n",
      "1000\n"
     ]
    }
   ],
   "source": [
    "a = 10\n",
    "b = 3\n",
    "\n",
    "print(a + b)   # جمع\n",
    "print(a - b)   # تفریق\n",
    "print(a * b)   # ضرب\n",
    "print(a / b)   # تقسیم\n",
    "print(a // b)  # تقسیم صحیح\n",
    "print(a % b)   # باقیمانده\n",
    "print(a ** b)  # توان"
   ]
  },
  {
   "cell_type": "markdown",
   "id": "5dff6953-11a5-4004-a200-6c87ed74aad7",
   "metadata": {},
   "source": [
    "<p style=\"font-family: B Nazanin, sans-serif; font-size: 20px; direction: rtl; text-align: right;\">\n",
    "عملگرهای مقایسه‌ای برای مقایسه مقادیر استفاده می‌شوند و خروجی آن‌ها مقدار بولین (True یا False) است.<br>\n",
    "</p>"
   ]
  },
  {
   "cell_type": "code",
   "execution_count": 32,
   "id": "c0865ceb",
   "metadata": {},
   "outputs": [
    {
     "name": "stdout",
     "output_type": "stream",
     "text": [
      "True\n",
      "False\n",
      "True\n",
      "True\n",
      "True\n",
      "True\n"
     ]
    }
   ],
   "source": [
    "x = 5\n",
    "print(x > 3)    # بزرگ‌تر\n",
    "print(x < 3)    # کوچک‌تر\n",
    "print(x == 5)   # مساوی\n",
    "print(x != 4)   # نابرابر\n",
    "print(x >= 5)   # بزرگ‌تر یا مساوی\n",
    "print(x <= 5)   # کوچک‌تر یا مساوی"
   ]
  },
  {
   "cell_type": "code",
   "execution_count": null,
   "id": "39e4a33f-a2b4-48ab-9e23-aa448db00f9b",
   "metadata": {},
   "outputs": [],
   "source": []
  },
  {
   "cell_type": "markdown",
   "id": "a77d81fc",
   "metadata": {},
   "source": [
    "\n",
    "<p style=\"font-family: B Nazanin, sans-serif; font-size: 20px; direction: rtl; text-align: right;\">\n",
    "عملگرهای منطقی\n",
    "</p>"
   ]
  },
  {
   "cell_type": "code",
   "execution_count": 33,
   "id": "5f199f50",
   "metadata": {},
   "outputs": [
    {
     "name": "stdout",
     "output_type": "stream",
     "text": [
      "True\n",
      "False\n",
      "True\n",
      "False\n",
      "False\n"
     ]
    }
   ],
   "source": [
    "x = 5\n",
    "print(x > 2 and x < 10)   # and: هر دو شرط باید درست باشد\n",
    "print(x > 6 and x < 10)\n",
    "\n",
    "print(x > 2 or x > 10)    # or: حداقل یکی از شرط‌ها باید درست باشد\n",
    "print(x < 2 or x > 10)\n",
    "\n",
    "print(not(x > 3))         # not: برعکس کردن نتیجه شرط"
   ]
  },
  {
   "cell_type": "markdown",
   "id": "e90ee771",
   "metadata": {},
   "source": [
    "\n",
    "<p style=\"font-family: B Nazanin, sans-serif; font-size: 20px; direction: rtl; text-align: right;\">\n",
    "عملگرهای ترکیبی\n",
    "</p>"
   ]
  },
  {
   "cell_type": "code",
   "execution_count": 34,
   "id": "949f5967",
   "metadata": {},
   "outputs": [
    {
     "name": "stdout",
     "output_type": "stream",
     "text": [
      "16\n"
     ]
    }
   ],
   "source": [
    "x = 5\n",
    "x += 3   # معادل x = x + 3\n",
    "x *= 2   # معادل x = x * 2\n",
    "print(x)"
   ]
  },
  {
   "cell_type": "markdown",
   "id": "8b438863",
   "metadata": {},
   "source": [
    "\n",
    "<p style=\"font-family: B Nazanin, sans-serif; font-size: 20px; direction: rtl; text-align: right;\">\n",
    "ورودی گرفتن از کاربر\n",
    "</p>"
   ]
  },
  {
   "cell_type": "code",
   "execution_count": 35,
   "id": "1d8fcc6a",
   "metadata": {},
   "outputs": [
    {
     "name": "stdin",
     "output_type": "stream",
     "text": [
      "enter your name:   Rania\n"
     ]
    },
    {
     "name": "stdout",
     "output_type": "stream",
     "text": [
      "hello Rania\n"
     ]
    }
   ],
   "source": [
    "name = input(\"enter your name:  \")\n",
    "print(\"hello\", name)"
   ]
  },
  {
   "cell_type": "markdown",
   "id": "f8ee483a",
   "metadata": {},
   "source": [
    "\n",
    "<p style=\"font-family: B Nazanin, sans-serif; font-size: 20px; direction: rtl; text-align: right;\">\n",
    "تبدیل انواع داده\n",
    "</p>"
   ]
  },
  {
   "cell_type": "code",
   "execution_count": 36,
   "id": "b9c8946b",
   "metadata": {},
   "outputs": [
    {
     "name": "stdout",
     "output_type": "stream",
     "text": [
      "7\n",
      "100\n"
     ]
    }
   ],
   "source": [
    "x = \"5\"\n",
    "y = int(x)     # تبدیل رشته به عدد\n",
    "z = str(10)    # تبدیل عدد به رشته\n",
    "print(y + 2)\n",
    "print(z + \"0\")"
   ]
  }
 ],
 "metadata": {
  "kernelspec": {
   "display_name": "Python 3 (ipykernel)",
   "language": "python",
   "name": "python3"
  },
  "language_info": {
   "codemirror_mode": {
    "name": "ipython",
    "version": 3
   },
   "file_extension": ".py",
   "mimetype": "text/x-python",
   "name": "python",
   "nbconvert_exporter": "python",
   "pygments_lexer": "ipython3",
   "version": "3.13.2"
  }
 },
 "nbformat": 4,
 "nbformat_minor": 5
}
